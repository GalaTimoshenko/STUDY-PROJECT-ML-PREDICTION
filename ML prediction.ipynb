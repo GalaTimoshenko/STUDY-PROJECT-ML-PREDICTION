{
  "nbformat": 4,
  "nbformat_minor": 0,
  "metadata": {
    "colab": {
      "provenance": [],
      "collapsed_sections": [
        "o6QMs6bwNahN",
        "Jn9QvepKnk99",
        "sNR_KQ9V4dVp",
        "e0TZ6YmFRPJP",
        "Uco04puRhcK8",
        "X5kIjmZvlgL3",
        "oV-Imo_o-4PW",
        "P-ioY-fOGYMT",
        "Muinm9Lllqgg",
        "u8t6Yg_nKTy9",
        "dp3vy2DZnjw9",
        "ePIw6MT5iGZf",
        "AuJjJTZrkJue"
      ]
    },
    "kernelspec": {
      "name": "python3",
      "display_name": "Python 3"
    },
    "language_info": {
      "name": "python"
    }
  },
  "cells": [
    {
      "cell_type": "markdown",
      "source": [
        "# **ИМПОРТИРОВАТЬ ВСЕ БИБЛИОТЕКИ**\n",
        "\n",
        "---\n",
        "\n"
      ],
      "metadata": {
        "id": "o6QMs6bwNahN"
      }
    },
    {
      "cell_type": "code",
      "source": [
        "import pandas as pd\n",
        "from sklearn.preprocessing import OneHotEncoder\n",
        "from matplotlib import pyplot\n",
        "import seaborn as sns\n",
        "import matplotlib.pyplot as plt\n",
        "import numpy as np\n",
        "import scipy\n",
        "import scipy.stats as stats\n",
        "from sklearn.preprocessing import StandardScaler\n",
        "import sklearn.linear_model as lm\n",
        "from sklearn.model_selection import train_test_split\n",
        "from sklearn.metrics import accuracy_score, confusion_matrix\n",
        "from sklearn.tree import DecisionTreeClassifier\n",
        "from sklearn.ensemble import RandomForestClassifier\n",
        "from sklearn.linear_model import LogisticRegression, LinearRegression\n",
        "from sklearn.metrics import accuracy_score, confusion_matrix, mean_absolute_error\n",
        "from sklearn.model_selection import train_test_split \n",
        "from sklearn.neural_network import MLPClassifier\n",
        "from sklearn.linear_model import LinearRegression\n",
        "from sklearn.model_selection import train_test_split, cross_validate, cross_val_score\n",
        "from sklearn.linear_model import LogisticRegression, LinearRegression\n",
        "from sklearn.metrics import accuracy_score, confusion_matrix, mean_absolute_error\n",
        "from sklearn.model_selection import train_test_split \n",
        "from sklearn.neural_network import MLPClassifier\n",
        "import pickle\n",
        "!pip install scipy==1.7.1"
      ],
      "metadata": {
        "colab": {
          "base_uri": "https://localhost:8080/"
        },
        "id": "k3DX6pxmocwi",
        "outputId": "585ab6ee-3296-48d4-c5f5-eaa2446886a8"
      },
      "execution_count": null,
      "outputs": [
        {
          "output_type": "stream",
          "name": "stdout",
          "text": [
            "Looking in indexes: https://pypi.org/simple, https://us-python.pkg.dev/colab-wheels/public/simple/\n",
            "Requirement already satisfied: scipy==1.7.1 in /usr/local/lib/python3.7/dist-packages (1.7.1)\n",
            "Requirement already satisfied: numpy<1.23.0,>=1.16.5 in /usr/local/lib/python3.7/dist-packages (from scipy==1.7.1) (1.21.6)\n"
          ]
        }
      ]
    },
    {
      "cell_type": "markdown",
      "source": [
        "# **ЗАГРУЗКА ДАННЫХ**\n",
        "\n",
        "---\n",
        "\n"
      ],
      "metadata": {
        "id": "Jn9QvepKnk99"
      }
    },
    {
      "cell_type": "code",
      "source": [
        "df = pd.read_csv('vehicles_dataset.csv')\n",
        "df.head(3)"
      ],
      "metadata": {
        "colab": {
          "base_uri": "https://localhost:8080/"
        },
        "id": "j5FCpA3W0C08",
        "outputId": "f17a8616-112f-4f76-cc41-421b4b593da5"
      },
      "execution_count": null,
      "outputs": [
        {
          "output_type": "execute_result",
          "data": {
            "text/plain": [
              "           id                                                url  \\\n",
              "0  7308295377  https://chattanooga.craigslist.org/ctd/d/chatt...   \n",
              "1  7316380095  https://newjersey.craigslist.org/ctd/d/carlsta...   \n",
              "2  7313733749  https://reno.craigslist.org/ctd/d/atlanta-2017...   \n",
              "\n",
              "         region                          region_url  price    year  \\\n",
              "0   chattanooga  https://chattanooga.craigslist.org  54990  2020.0   \n",
              "1  north jersey    https://newjersey.craigslist.org  16942  2016.0   \n",
              "2  reno / tahoe         https://reno.craigslist.org  35590  2017.0   \n",
              "\n",
              "  manufacturer                   model condition    cylinders  ...    type  \\\n",
              "0          ram  2500 crew cab big horn      good          NaN  ...  pickup   \n",
              "1         ford    explorer 4wd 4dr xlt       NaN  6 cylinders  ...     SUV   \n",
              "2   volkswagen        golf r hatchback      good          NaN  ...   sedan   \n",
              "\n",
              "   paint_color                                          image_url  \\\n",
              "0       silver  https://images.craigslist.org/00N0N_1xMPvfxRAI...   \n",
              "1        black  https://images.craigslist.org/00x0x_26jl9F0cnL...   \n",
              "2          NaN  https://images.craigslist.org/00y0y_eeZjWeiSfb...   \n",
              "\n",
              "                                         description county state        lat  \\\n",
              "0  Carvana is the safer way to buy a car During t...    NaN    tn  35.060000   \n",
              "1  ***Call Us for more information at: 201-635-14...    NaN    nj  40.821805   \n",
              "2  Carvana is the safer way to buy a car During t...    NaN    ca  33.779214   \n",
              "\n",
              "        long              posting_date price_category  \n",
              "0 -85.250000  2021-04-17T12:30:50-0400           high  \n",
              "1 -74.061962  2021-05-03T15:40:21-0400         medium  \n",
              "2 -84.411811  2021-04-28T03:52:20-0700           high  \n",
              "\n",
              "[3 rows x 27 columns]"
            ],
            "text/html": [
              "\n",
              "  <div id=\"df-43cfa051-c56a-4697-aa2d-c05e198ccf28\">\n",
              "    <div class=\"colab-df-container\">\n",
              "      <div>\n",
              "<style scoped>\n",
              "    .dataframe tbody tr th:only-of-type {\n",
              "        vertical-align: middle;\n",
              "    }\n",
              "\n",
              "    .dataframe tbody tr th {\n",
              "        vertical-align: top;\n",
              "    }\n",
              "\n",
              "    .dataframe thead th {\n",
              "        text-align: right;\n",
              "    }\n",
              "</style>\n",
              "<table border=\"1\" class=\"dataframe\">\n",
              "  <thead>\n",
              "    <tr style=\"text-align: right;\">\n",
              "      <th></th>\n",
              "      <th>id</th>\n",
              "      <th>url</th>\n",
              "      <th>region</th>\n",
              "      <th>region_url</th>\n",
              "      <th>price</th>\n",
              "      <th>year</th>\n",
              "      <th>manufacturer</th>\n",
              "      <th>model</th>\n",
              "      <th>condition</th>\n",
              "      <th>cylinders</th>\n",
              "      <th>...</th>\n",
              "      <th>type</th>\n",
              "      <th>paint_color</th>\n",
              "      <th>image_url</th>\n",
              "      <th>description</th>\n",
              "      <th>county</th>\n",
              "      <th>state</th>\n",
              "      <th>lat</th>\n",
              "      <th>long</th>\n",
              "      <th>posting_date</th>\n",
              "      <th>price_category</th>\n",
              "    </tr>\n",
              "  </thead>\n",
              "  <tbody>\n",
              "    <tr>\n",
              "      <th>0</th>\n",
              "      <td>7308295377</td>\n",
              "      <td>https://chattanooga.craigslist.org/ctd/d/chatt...</td>\n",
              "      <td>chattanooga</td>\n",
              "      <td>https://chattanooga.craigslist.org</td>\n",
              "      <td>54990</td>\n",
              "      <td>2020.0</td>\n",
              "      <td>ram</td>\n",
              "      <td>2500 crew cab big horn</td>\n",
              "      <td>good</td>\n",
              "      <td>NaN</td>\n",
              "      <td>...</td>\n",
              "      <td>pickup</td>\n",
              "      <td>silver</td>\n",
              "      <td>https://images.craigslist.org/00N0N_1xMPvfxRAI...</td>\n",
              "      <td>Carvana is the safer way to buy a car During t...</td>\n",
              "      <td>NaN</td>\n",
              "      <td>tn</td>\n",
              "      <td>35.060000</td>\n",
              "      <td>-85.250000</td>\n",
              "      <td>2021-04-17T12:30:50-0400</td>\n",
              "      <td>high</td>\n",
              "    </tr>\n",
              "    <tr>\n",
              "      <th>1</th>\n",
              "      <td>7316380095</td>\n",
              "      <td>https://newjersey.craigslist.org/ctd/d/carlsta...</td>\n",
              "      <td>north jersey</td>\n",
              "      <td>https://newjersey.craigslist.org</td>\n",
              "      <td>16942</td>\n",
              "      <td>2016.0</td>\n",
              "      <td>ford</td>\n",
              "      <td>explorer 4wd 4dr xlt</td>\n",
              "      <td>NaN</td>\n",
              "      <td>6 cylinders</td>\n",
              "      <td>...</td>\n",
              "      <td>SUV</td>\n",
              "      <td>black</td>\n",
              "      <td>https://images.craigslist.org/00x0x_26jl9F0cnL...</td>\n",
              "      <td>***Call Us for more information at: 201-635-14...</td>\n",
              "      <td>NaN</td>\n",
              "      <td>nj</td>\n",
              "      <td>40.821805</td>\n",
              "      <td>-74.061962</td>\n",
              "      <td>2021-05-03T15:40:21-0400</td>\n",
              "      <td>medium</td>\n",
              "    </tr>\n",
              "    <tr>\n",
              "      <th>2</th>\n",
              "      <td>7313733749</td>\n",
              "      <td>https://reno.craigslist.org/ctd/d/atlanta-2017...</td>\n",
              "      <td>reno / tahoe</td>\n",
              "      <td>https://reno.craigslist.org</td>\n",
              "      <td>35590</td>\n",
              "      <td>2017.0</td>\n",
              "      <td>volkswagen</td>\n",
              "      <td>golf r hatchback</td>\n",
              "      <td>good</td>\n",
              "      <td>NaN</td>\n",
              "      <td>...</td>\n",
              "      <td>sedan</td>\n",
              "      <td>NaN</td>\n",
              "      <td>https://images.craigslist.org/00y0y_eeZjWeiSfb...</td>\n",
              "      <td>Carvana is the safer way to buy a car During t...</td>\n",
              "      <td>NaN</td>\n",
              "      <td>ca</td>\n",
              "      <td>33.779214</td>\n",
              "      <td>-84.411811</td>\n",
              "      <td>2021-04-28T03:52:20-0700</td>\n",
              "      <td>high</td>\n",
              "    </tr>\n",
              "  </tbody>\n",
              "</table>\n",
              "<p>3 rows × 27 columns</p>\n",
              "</div>\n",
              "      <button class=\"colab-df-convert\" onclick=\"convertToInteractive('df-43cfa051-c56a-4697-aa2d-c05e198ccf28')\"\n",
              "              title=\"Convert this dataframe to an interactive table.\"\n",
              "              style=\"display:none;\">\n",
              "        \n",
              "  <svg xmlns=\"http://www.w3.org/2000/svg\" height=\"24px\"viewBox=\"0 0 24 24\"\n",
              "       width=\"24px\">\n",
              "    <path d=\"M0 0h24v24H0V0z\" fill=\"none\"/>\n",
              "    <path d=\"M18.56 5.44l.94 2.06.94-2.06 2.06-.94-2.06-.94-.94-2.06-.94 2.06-2.06.94zm-11 1L8.5 8.5l.94-2.06 2.06-.94-2.06-.94L8.5 2.5l-.94 2.06-2.06.94zm10 10l.94 2.06.94-2.06 2.06-.94-2.06-.94-.94-2.06-.94 2.06-2.06.94z\"/><path d=\"M17.41 7.96l-1.37-1.37c-.4-.4-.92-.59-1.43-.59-.52 0-1.04.2-1.43.59L10.3 9.45l-7.72 7.72c-.78.78-.78 2.05 0 2.83L4 21.41c.39.39.9.59 1.41.59.51 0 1.02-.2 1.41-.59l7.78-7.78 2.81-2.81c.8-.78.8-2.07 0-2.86zM5.41 20L4 18.59l7.72-7.72 1.47 1.35L5.41 20z\"/>\n",
              "  </svg>\n",
              "      </button>\n",
              "      \n",
              "  <style>\n",
              "    .colab-df-container {\n",
              "      display:flex;\n",
              "      flex-wrap:wrap;\n",
              "      gap: 12px;\n",
              "    }\n",
              "\n",
              "    .colab-df-convert {\n",
              "      background-color: #E8F0FE;\n",
              "      border: none;\n",
              "      border-radius: 50%;\n",
              "      cursor: pointer;\n",
              "      display: none;\n",
              "      fill: #1967D2;\n",
              "      height: 32px;\n",
              "      padding: 0 0 0 0;\n",
              "      width: 32px;\n",
              "    }\n",
              "\n",
              "    .colab-df-convert:hover {\n",
              "      background-color: #E2EBFA;\n",
              "      box-shadow: 0px 1px 2px rgba(60, 64, 67, 0.3), 0px 1px 3px 1px rgba(60, 64, 67, 0.15);\n",
              "      fill: #174EA6;\n",
              "    }\n",
              "\n",
              "    [theme=dark] .colab-df-convert {\n",
              "      background-color: #3B4455;\n",
              "      fill: #D2E3FC;\n",
              "    }\n",
              "\n",
              "    [theme=dark] .colab-df-convert:hover {\n",
              "      background-color: #434B5C;\n",
              "      box-shadow: 0px 1px 3px 1px rgba(0, 0, 0, 0.15);\n",
              "      filter: drop-shadow(0px 1px 2px rgba(0, 0, 0, 0.3));\n",
              "      fill: #FFFFFF;\n",
              "    }\n",
              "  </style>\n",
              "\n",
              "      <script>\n",
              "        const buttonEl =\n",
              "          document.querySelector('#df-43cfa051-c56a-4697-aa2d-c05e198ccf28 button.colab-df-convert');\n",
              "        buttonEl.style.display =\n",
              "          google.colab.kernel.accessAllowed ? 'block' : 'none';\n",
              "\n",
              "        async function convertToInteractive(key) {\n",
              "          const element = document.querySelector('#df-43cfa051-c56a-4697-aa2d-c05e198ccf28');\n",
              "          const dataTable =\n",
              "            await google.colab.kernel.invokeFunction('convertToInteractive',\n",
              "                                                     [key], {});\n",
              "          if (!dataTable) return;\n",
              "\n",
              "          const docLinkHtml = 'Like what you see? Visit the ' +\n",
              "            '<a target=\"_blank\" href=https://colab.research.google.com/notebooks/data_table.ipynb>data table notebook</a>'\n",
              "            + ' to learn more about interactive tables.';\n",
              "          element.innerHTML = '';\n",
              "          dataTable['output_type'] = 'display_data';\n",
              "          await google.colab.output.renderOutput(dataTable, element);\n",
              "          const docLink = document.createElement('div');\n",
              "          docLink.innerHTML = docLinkHtml;\n",
              "          element.appendChild(docLink);\n",
              "        }\n",
              "      </script>\n",
              "    </div>\n",
              "  </div>\n",
              "  "
            ]
          },
          "metadata": {},
          "execution_count": 185
        }
      ]
    },
    {
      "cell_type": "markdown",
      "source": [
        "# **ПОДГОТОВКА ДАННЫХ**\n",
        "\n",
        "---\n",
        "\n"
      ],
      "metadata": {
        "id": "jBMO-NoZ1JDC"
      }
    },
    {
      "cell_type": "code",
      "source": [
        "#оценим размер выборки\n",
        "print('Размер выбоpки: {}, {}'.format(df.shape[0], df.shape[1]))"
      ],
      "metadata": {
        "colab": {
          "base_uri": "https://localhost:8080/"
        },
        "id": "fun3v4vc1Oge",
        "outputId": "7cdf416f-46c8-43f6-a656-301e8b413f8a"
      },
      "execution_count": null,
      "outputs": [
        {
          "output_type": "stream",
          "name": "stdout",
          "text": [
            "Размер выбоpки: 10050, 27\n"
          ]
        }
      ]
    },
    {
      "cell_type": "code",
      "source": [
        "#оценим типы данных  в выборке\n",
        "print('Информация о выборке:\\n')\n",
        "df.info()"
      ],
      "metadata": {
        "colab": {
          "base_uri": "https://localhost:8080/"
        },
        "id": "VSNgoLwc1g2L",
        "outputId": "3b50128e-e4db-4924-de4f-79f80db7fa50"
      },
      "execution_count": null,
      "outputs": [
        {
          "output_type": "stream",
          "name": "stdout",
          "text": [
            "Информация о выборке:\n",
            "\n",
            "<class 'pandas.core.frame.DataFrame'>\n",
            "RangeIndex: 10050 entries, 0 to 10049\n",
            "Data columns (total 27 columns):\n",
            " #   Column          Non-Null Count  Dtype  \n",
            "---  ------          --------------  -----  \n",
            " 0   id              10050 non-null  int64  \n",
            " 1   url             10050 non-null  object \n",
            " 2   region          10050 non-null  object \n",
            " 3   region_url      10050 non-null  object \n",
            " 4   price           10050 non-null  int64  \n",
            " 5   year            10014 non-null  float64\n",
            " 6   manufacturer    9665 non-null   object \n",
            " 7   model           9921 non-null   object \n",
            " 8   condition       6268 non-null   object \n",
            " 9   cylinders       5953 non-null   object \n",
            " 10  fuel            9987 non-null   object \n",
            " 11  odometer        10007 non-null  float64\n",
            " 12  title_status    9884 non-null   object \n",
            " 13  transmission    10005 non-null  object \n",
            " 14  VIN             6086 non-null   object \n",
            " 15  drive           7026 non-null   object \n",
            " 16  size            2825 non-null   object \n",
            " 17  type            7845 non-null   object \n",
            " 18  paint_color     7087 non-null   object \n",
            " 19  image_url       10048 non-null  object \n",
            " 20  description     10048 non-null  object \n",
            " 21  county          0 non-null      float64\n",
            " 22  state           10050 non-null  object \n",
            " 23  lat             9951 non-null   float64\n",
            " 24  long            9951 non-null   float64\n",
            " 25  posting_date    10048 non-null  object \n",
            " 26  price_category  10050 non-null  object \n",
            "dtypes: float64(5), int64(2), object(20)\n",
            "memory usage: 2.1+ MB\n"
          ]
        }
      ]
    },
    {
      "cell_type": "code",
      "source": [
        "# оценим дублирование\n",
        "df.duplicated()\n",
        "df[df.duplicated()].shape\n",
        "# есть 50 повторяющихся строчек. удалим их\n",
        "df2 = df.drop_duplicates()\n",
        "df2[df2.duplicated()].shape\n",
        "# дубликатов нет"
      ],
      "metadata": {
        "colab": {
          "base_uri": "https://localhost:8080/"
        },
        "id": "M6LT9wvqshaU",
        "outputId": "7cb634bc-d640-4571-cce3-ad7d0cae5fb0"
      },
      "execution_count": null,
      "outputs": [
        {
          "output_type": "execute_result",
          "data": {
            "text/plain": [
              "(0, 27)"
            ]
          },
          "metadata": {},
          "execution_count": 188
        }
      ]
    },
    {
      "cell_type": "code",
      "source": [
        "# оценим пропуски\n",
        "missing_values = ((df2.isna().sum() / len(df2)) * 100).sort_values()\n",
        "print('Процент пропущенных значений до удаления столбцов:', missing_values)\n",
        "\n",
        "# удалим колонки с пропусками больше 20% county, cylinders, VIN, type, paint_color, drive, condition, size                                                                                 \n",
        "df3 = df2.drop(['county', 'cylinders', 'VIN', 'type', 'paint_color', 'drive', 'condition', 'size'], axis=1)\n",
        "df3.shape\n",
        "# нужно заменить или удалить пропуски, составляющие меньше 20%\n",
        "missing_values = ((df3.isna().sum() / len(df3)) * 100).sort_values()\n",
        "print('Процент пропущенных значений после удаления столбцов:', missing_values)\n",
        "print('Размер выбоpки: {}, {}'.format(df3.shape[0], df3.shape[1]))\n"
      ],
      "metadata": {
        "colab": {
          "base_uri": "https://localhost:8080/"
        },
        "id": "8Iw1GjhBtsy8",
        "outputId": "f881f384-b103-4cc6-b36f-187c4ad3b09c"
      },
      "execution_count": null,
      "outputs": [
        {
          "output_type": "stream",
          "name": "stdout",
          "text": [
            "Процент пропущенных значений до удаления столбцов: id                  0.00\n",
            "state               0.00\n",
            "price               0.00\n",
            "price_category      0.00\n",
            "region              0.00\n",
            "url                 0.00\n",
            "region_url          0.00\n",
            "description         0.02\n",
            "image_url           0.02\n",
            "posting_date        0.02\n",
            "year                0.36\n",
            "odometer            0.43\n",
            "transmission        0.45\n",
            "fuel                0.63\n",
            "lat                 0.98\n",
            "long                0.98\n",
            "model               1.28\n",
            "title_status        1.66\n",
            "manufacturer        3.82\n",
            "type               21.94\n",
            "paint_color        29.50\n",
            "drive              30.06\n",
            "condition          37.66\n",
            "VIN                39.38\n",
            "cylinders          40.80\n",
            "size               71.91\n",
            "county            100.00\n",
            "dtype: float64\n",
            "Процент пропущенных значений после удаления столбцов: id                0.00\n",
            "state             0.00\n",
            "price             0.00\n",
            "price_category    0.00\n",
            "region            0.00\n",
            "url               0.00\n",
            "region_url        0.00\n",
            "posting_date      0.02\n",
            "image_url         0.02\n",
            "description       0.02\n",
            "year              0.36\n",
            "odometer          0.43\n",
            "transmission      0.45\n",
            "fuel              0.63\n",
            "lat               0.98\n",
            "long              0.98\n",
            "model             1.28\n",
            "title_status      1.66\n",
            "manufacturer      3.82\n",
            "dtype: float64\n",
            "Размер выбоpки: 10000, 19\n"
          ]
        }
      ]
    },
    {
      "cell_type": "code",
      "source": [
        "# пропуск по производителю manufacturer, топ значений ford - заполним по нему\n",
        "df3['manufacturer'].describe()\n",
        "df3.manufacturer = df3.manufacturer.fillna('ford')\n",
        "print(\"Количество пропущенных значений в manufacturer:\", df3.manufacturer.isna().sum())\n",
        "\n",
        "# пропуск по производителю title-status, топ значений clean - заполним по нему\n",
        "df3['title_status'].describe()\n",
        "df3.title_status = df3.title_status.fillna('clean')\n",
        "print(\"Количество пропущенных значений в title_status:\", df3['title_status'].isna().sum())\n",
        "\n",
        "# пропуск по производителю model, топ значений f-150 - заполним по нему\n",
        "df3['model'].describe()\n",
        "df3.model = df3.model.fillna('f-150')\n",
        "print(\"Количество пропущенных значений в model:\", df3['model'].isna().sum())\n",
        "\n",
        "# пропуск по производителю long & lat удалим\n",
        "df3 = df3[df3.lat.notna() | df3.long.notna()]\n",
        "\n",
        "# пропуск по году производства\n",
        "df3 = df3[df3.year.notna()]\n",
        "df3.year = df3.year.astype('int64')\n",
        "\n",
        "# пропуск по одометру\n",
        "df3 = df3[df3.odometer.notna()]\n",
        "\n",
        "# пропуск по transmission\n",
        "df3 = df3[df3.transmission.notna()]\n",
        "\n",
        "# пропуск по fuel\n",
        "df3 = df3[df3.fuel.notna()]\n",
        "df3.fuel.astype('category')\n",
        "\n",
        "missing_values = ((df3.isna().sum() / len(df3)) * 100).sort_values()\n",
        "print(missing_values)\n",
        "\n",
        "print(df3.info())"
      ],
      "metadata": {
        "colab": {
          "base_uri": "https://localhost:8080/"
        },
        "id": "I1tuIlYRuOON",
        "outputId": "b1cd2009-2e1e-48f4-f028-48e3a67c8693"
      },
      "execution_count": null,
      "outputs": [
        {
          "output_type": "stream",
          "name": "stdout",
          "text": [
            "Количество пропущенных значений в manufacturer: 0\n",
            "Количество пропущенных значений в title_status: 0\n",
            "Количество пропущенных значений в model: 0\n",
            "id                0.0\n",
            "long              0.0\n",
            "lat               0.0\n",
            "state             0.0\n",
            "description       0.0\n",
            "image_url         0.0\n",
            "transmission      0.0\n",
            "title_status      0.0\n",
            "posting_date      0.0\n",
            "odometer          0.0\n",
            "model             0.0\n",
            "manufacturer      0.0\n",
            "year              0.0\n",
            "price             0.0\n",
            "region_url        0.0\n",
            "region            0.0\n",
            "url               0.0\n",
            "fuel              0.0\n",
            "price_category    0.0\n",
            "dtype: float64\n",
            "<class 'pandas.core.frame.DataFrame'>\n",
            "Int64Index: 9742 entries, 0 to 10049\n",
            "Data columns (total 19 columns):\n",
            " #   Column          Non-Null Count  Dtype  \n",
            "---  ------          --------------  -----  \n",
            " 0   id              9742 non-null   int64  \n",
            " 1   url             9742 non-null   object \n",
            " 2   region          9742 non-null   object \n",
            " 3   region_url      9742 non-null   object \n",
            " 4   price           9742 non-null   int64  \n",
            " 5   year            9742 non-null   int64  \n",
            " 6   manufacturer    9742 non-null   object \n",
            " 7   model           9742 non-null   object \n",
            " 8   fuel            9742 non-null   object \n",
            " 9   odometer        9742 non-null   float64\n",
            " 10  title_status    9742 non-null   object \n",
            " 11  transmission    9742 non-null   object \n",
            " 12  image_url       9742 non-null   object \n",
            " 13  description     9742 non-null   object \n",
            " 14  state           9742 non-null   object \n",
            " 15  lat             9742 non-null   float64\n",
            " 16  long            9742 non-null   float64\n",
            " 17  posting_date    9742 non-null   object \n",
            " 18  price_category  9742 non-null   object \n",
            "dtypes: float64(3), int64(3), object(13)\n",
            "memory usage: 1.5+ MB\n",
            "None\n"
          ]
        }
      ]
    },
    {
      "cell_type": "code",
      "source": [
        "#выбросы в годе выпуска\n",
        "df3.year.describe()\n",
        "def calculate_outliers(data):\n",
        "    q25 = data.quantile(0.25)\n",
        "    q75 = data.quantile(0.75)\n",
        "    iqr = q75 - q25\n",
        "    boundaries = (q25 - 1.5 * iqr, q75 + 1.5 * iqr)\n",
        "    \n",
        "    return boundaries\n",
        "\n",
        "boundaries = calculate_outliers(df3.year)\n",
        "is_outlier = (df3.year < boundaries[0]) | (df3.year > boundaries[1]) \n",
        "\n",
        "print('границы значений года', boundaries)\n",
        "print('кол-во выбросов в значении года',is_outlier.sum())\n",
        "\n",
        "df3.loc[is_outlier, 'year'] = int(boundaries[0]) + 1\n",
        "\n",
        "print('кол-во выбросов в значении года после заполнения нижней границей',is_outlier.sum())\n",
        "print(df3.year.describe())\n",
        "\n",
        "# ранее минимальный год выпуска был 1915, теперь 1995"
      ],
      "metadata": {
        "colab": {
          "base_uri": "https://localhost:8080/"
        },
        "id": "2fnwjsqt3dTS",
        "outputId": "f33c1f57-19d0-4704-9119-3a3943d2267e"
      },
      "execution_count": null,
      "outputs": [
        {
          "output_type": "stream",
          "name": "stdout",
          "text": [
            "границы значений года (1994.5, 2030.5)\n",
            "кол-во выбросов в значении года 393\n",
            "кол-во выбросов в значении года после заполнения нижней границей 393\n",
            "count    9742.000000\n",
            "mean     2011.684048\n",
            "std         6.438973\n",
            "min      1995.000000\n",
            "25%      2008.000000\n",
            "50%      2013.000000\n",
            "75%      2017.000000\n",
            "max      2022.000000\n",
            "Name: year, dtype: float64\n"
          ]
        }
      ]
    },
    {
      "cell_type": "code",
      "source": [
        "#выбросы в цене авто\n",
        "df3.price.describe()\n",
        "def calculate_outliers(data):\n",
        "    q25 = data.quantile(0.25)\n",
        "    q75 = data.quantile(0.75)\n",
        "    iqr = q75 - q25\n",
        "    boundaries = (q25 - 1.5 * iqr, q75 + 1.5 * iqr)\n",
        "    \n",
        "    return boundaries\n",
        "\n",
        "boundaries = calculate_outliers(df3.price)\n",
        "is_outlier = (df3.price < boundaries[0]) | (df3.price > boundaries[1]) \n",
        "df3[is_outlier]\n",
        "# выбросы только среди максимальных значений. поэтому заменим их\n",
        "df3.loc[is_outlier, 'price'] = int(boundaries[1])\n",
        "\n",
        "print('границы значениях цены', boundaries)\n",
        "print('кол-во выбросов в значении цены',is_outlier.sum())\n",
        "print(df3.price.describe())"
      ],
      "metadata": {
        "colab": {
          "base_uri": "https://localhost:8080/"
        },
        "id": "HXcwFln04nmU",
        "outputId": "d7a3c313-13b2-4430-a5a9-def17de2bb1a"
      },
      "execution_count": null,
      "outputs": [
        {
          "output_type": "stream",
          "name": "stdout",
          "text": [
            "границы значениях цены (-22485.0, 58275.0)\n",
            "кол-во выбросов в значении цены 205\n",
            "count     9742.000000\n",
            "mean     18906.389140\n",
            "std      13696.175497\n",
            "min        500.000000\n",
            "25%       7800.000000\n",
            "50%      15590.000000\n",
            "75%      27990.000000\n",
            "max      58275.000000\n",
            "Name: price, dtype: float64\n"
          ]
        }
      ]
    },
    {
      "cell_type": "code",
      "source": [
        "# тип данных дата выпуска автомобиля. заменим o на дату\n",
        "pd.to_datetime(df3.posting_date)\n",
        "pd.to_datetime(df3.posting_date, utc=True)\n",
        "df3['date'] = pd.to_datetime(df3.posting_date, utc=True)\n",
        "df3.info()"
      ],
      "metadata": {
        "colab": {
          "base_uri": "https://localhost:8080/"
        },
        "id": "58BKMBR38XWg",
        "outputId": "d2f2cdec-df7d-49ea-f921-61c458269ff2"
      },
      "execution_count": null,
      "outputs": [
        {
          "output_type": "stream",
          "name": "stdout",
          "text": [
            "<class 'pandas.core.frame.DataFrame'>\n",
            "Int64Index: 9742 entries, 0 to 10049\n",
            "Data columns (total 20 columns):\n",
            " #   Column          Non-Null Count  Dtype              \n",
            "---  ------          --------------  -----              \n",
            " 0   id              9742 non-null   int64              \n",
            " 1   url             9742 non-null   object             \n",
            " 2   region          9742 non-null   object             \n",
            " 3   region_url      9742 non-null   object             \n",
            " 4   price           9742 non-null   int64              \n",
            " 5   year            9742 non-null   int64              \n",
            " 6   manufacturer    9742 non-null   object             \n",
            " 7   model           9742 non-null   object             \n",
            " 8   fuel            9742 non-null   object             \n",
            " 9   odometer        9742 non-null   float64            \n",
            " 10  title_status    9742 non-null   object             \n",
            " 11  transmission    9742 non-null   object             \n",
            " 12  image_url       9742 non-null   object             \n",
            " 13  description     9742 non-null   object             \n",
            " 14  state           9742 non-null   object             \n",
            " 15  lat             9742 non-null   float64            \n",
            " 16  long            9742 non-null   float64            \n",
            " 17  posting_date    9742 non-null   object             \n",
            " 18  price_category  9742 non-null   object             \n",
            " 19  date            9742 non-null   datetime64[ns, UTC]\n",
            "dtypes: datetime64[ns, UTC](1), float64(3), int64(3), object(13)\n",
            "memory usage: 1.6+ MB\n"
          ]
        }
      ]
    },
    {
      "cell_type": "markdown",
      "source": [
        "## *Количественные*"
      ],
      "metadata": {
        "id": "sNR_KQ9V4dVp"
      }
    },
    {
      "cell_type": "code",
      "source": [
        "df3[['id', 'price', 'year', 'odometer', 'lat', 'long']].describe()"
      ],
      "metadata": {
        "colab": {
          "base_uri": "https://localhost:8080/"
        },
        "id": "jswmOZwnRRrd",
        "outputId": "42bf8228-ace9-4909-a8aa-8457ac4aa672"
      },
      "execution_count": null,
      "outputs": [
        {
          "output_type": "execute_result",
          "data": {
            "text/plain": [
              "                 id         price         year      odometer          lat  \\\n",
              "count  9.742000e+03   9742.000000  9742.000000  9.742000e+03  9742.000000   \n",
              "mean   7.311557e+09  18906.389140  2011.684048  9.605809e+04    38.610721   \n",
              "std    4.367591e+06  13696.175497     6.438973  8.718621e+04     5.841340   \n",
              "min    7.301586e+09    500.000000  1995.000000  0.000000e+00   -67.144243   \n",
              "25%    7.308181e+09   7800.000000  2008.000000  3.914375e+04    34.846764   \n",
              "50%    7.312781e+09  15590.000000  2013.000000  8.878350e+04    39.300000   \n",
              "75%    7.315288e+09  27990.000000  2017.000000  1.379675e+05    42.440000   \n",
              "max    7.317090e+09  58275.000000  2022.000000  3.245000e+06    64.947500   \n",
              "\n",
              "              long  \n",
              "count  9742.000000  \n",
              "mean    -94.081774  \n",
              "std      18.066808  \n",
              "min    -158.069300  \n",
              "25%    -108.572925  \n",
              "50%     -87.979200  \n",
              "75%     -80.830000  \n",
              "max     173.885502  "
            ],
            "text/html": [
              "\n",
              "  <div id=\"df-3fa36832-e5fc-4e79-9065-b18fad40909f\">\n",
              "    <div class=\"colab-df-container\">\n",
              "      <div>\n",
              "<style scoped>\n",
              "    .dataframe tbody tr th:only-of-type {\n",
              "        vertical-align: middle;\n",
              "    }\n",
              "\n",
              "    .dataframe tbody tr th {\n",
              "        vertical-align: top;\n",
              "    }\n",
              "\n",
              "    .dataframe thead th {\n",
              "        text-align: right;\n",
              "    }\n",
              "</style>\n",
              "<table border=\"1\" class=\"dataframe\">\n",
              "  <thead>\n",
              "    <tr style=\"text-align: right;\">\n",
              "      <th></th>\n",
              "      <th>id</th>\n",
              "      <th>price</th>\n",
              "      <th>year</th>\n",
              "      <th>odometer</th>\n",
              "      <th>lat</th>\n",
              "      <th>long</th>\n",
              "    </tr>\n",
              "  </thead>\n",
              "  <tbody>\n",
              "    <tr>\n",
              "      <th>count</th>\n",
              "      <td>9.742000e+03</td>\n",
              "      <td>9742.000000</td>\n",
              "      <td>9742.000000</td>\n",
              "      <td>9.742000e+03</td>\n",
              "      <td>9742.000000</td>\n",
              "      <td>9742.000000</td>\n",
              "    </tr>\n",
              "    <tr>\n",
              "      <th>mean</th>\n",
              "      <td>7.311557e+09</td>\n",
              "      <td>18906.389140</td>\n",
              "      <td>2011.684048</td>\n",
              "      <td>9.605809e+04</td>\n",
              "      <td>38.610721</td>\n",
              "      <td>-94.081774</td>\n",
              "    </tr>\n",
              "    <tr>\n",
              "      <th>std</th>\n",
              "      <td>4.367591e+06</td>\n",
              "      <td>13696.175497</td>\n",
              "      <td>6.438973</td>\n",
              "      <td>8.718621e+04</td>\n",
              "      <td>5.841340</td>\n",
              "      <td>18.066808</td>\n",
              "    </tr>\n",
              "    <tr>\n",
              "      <th>min</th>\n",
              "      <td>7.301586e+09</td>\n",
              "      <td>500.000000</td>\n",
              "      <td>1995.000000</td>\n",
              "      <td>0.000000e+00</td>\n",
              "      <td>-67.144243</td>\n",
              "      <td>-158.069300</td>\n",
              "    </tr>\n",
              "    <tr>\n",
              "      <th>25%</th>\n",
              "      <td>7.308181e+09</td>\n",
              "      <td>7800.000000</td>\n",
              "      <td>2008.000000</td>\n",
              "      <td>3.914375e+04</td>\n",
              "      <td>34.846764</td>\n",
              "      <td>-108.572925</td>\n",
              "    </tr>\n",
              "    <tr>\n",
              "      <th>50%</th>\n",
              "      <td>7.312781e+09</td>\n",
              "      <td>15590.000000</td>\n",
              "      <td>2013.000000</td>\n",
              "      <td>8.878350e+04</td>\n",
              "      <td>39.300000</td>\n",
              "      <td>-87.979200</td>\n",
              "    </tr>\n",
              "    <tr>\n",
              "      <th>75%</th>\n",
              "      <td>7.315288e+09</td>\n",
              "      <td>27990.000000</td>\n",
              "      <td>2017.000000</td>\n",
              "      <td>1.379675e+05</td>\n",
              "      <td>42.440000</td>\n",
              "      <td>-80.830000</td>\n",
              "    </tr>\n",
              "    <tr>\n",
              "      <th>max</th>\n",
              "      <td>7.317090e+09</td>\n",
              "      <td>58275.000000</td>\n",
              "      <td>2022.000000</td>\n",
              "      <td>3.245000e+06</td>\n",
              "      <td>64.947500</td>\n",
              "      <td>173.885502</td>\n",
              "    </tr>\n",
              "  </tbody>\n",
              "</table>\n",
              "</div>\n",
              "      <button class=\"colab-df-convert\" onclick=\"convertToInteractive('df-3fa36832-e5fc-4e79-9065-b18fad40909f')\"\n",
              "              title=\"Convert this dataframe to an interactive table.\"\n",
              "              style=\"display:none;\">\n",
              "        \n",
              "  <svg xmlns=\"http://www.w3.org/2000/svg\" height=\"24px\"viewBox=\"0 0 24 24\"\n",
              "       width=\"24px\">\n",
              "    <path d=\"M0 0h24v24H0V0z\" fill=\"none\"/>\n",
              "    <path d=\"M18.56 5.44l.94 2.06.94-2.06 2.06-.94-2.06-.94-.94-2.06-.94 2.06-2.06.94zm-11 1L8.5 8.5l.94-2.06 2.06-.94-2.06-.94L8.5 2.5l-.94 2.06-2.06.94zm10 10l.94 2.06.94-2.06 2.06-.94-2.06-.94-.94-2.06-.94 2.06-2.06.94z\"/><path d=\"M17.41 7.96l-1.37-1.37c-.4-.4-.92-.59-1.43-.59-.52 0-1.04.2-1.43.59L10.3 9.45l-7.72 7.72c-.78.78-.78 2.05 0 2.83L4 21.41c.39.39.9.59 1.41.59.51 0 1.02-.2 1.41-.59l7.78-7.78 2.81-2.81c.8-.78.8-2.07 0-2.86zM5.41 20L4 18.59l7.72-7.72 1.47 1.35L5.41 20z\"/>\n",
              "  </svg>\n",
              "      </button>\n",
              "      \n",
              "  <style>\n",
              "    .colab-df-container {\n",
              "      display:flex;\n",
              "      flex-wrap:wrap;\n",
              "      gap: 12px;\n",
              "    }\n",
              "\n",
              "    .colab-df-convert {\n",
              "      background-color: #E8F0FE;\n",
              "      border: none;\n",
              "      border-radius: 50%;\n",
              "      cursor: pointer;\n",
              "      display: none;\n",
              "      fill: #1967D2;\n",
              "      height: 32px;\n",
              "      padding: 0 0 0 0;\n",
              "      width: 32px;\n",
              "    }\n",
              "\n",
              "    .colab-df-convert:hover {\n",
              "      background-color: #E2EBFA;\n",
              "      box-shadow: 0px 1px 2px rgba(60, 64, 67, 0.3), 0px 1px 3px 1px rgba(60, 64, 67, 0.15);\n",
              "      fill: #174EA6;\n",
              "    }\n",
              "\n",
              "    [theme=dark] .colab-df-convert {\n",
              "      background-color: #3B4455;\n",
              "      fill: #D2E3FC;\n",
              "    }\n",
              "\n",
              "    [theme=dark] .colab-df-convert:hover {\n",
              "      background-color: #434B5C;\n",
              "      box-shadow: 0px 1px 3px 1px rgba(0, 0, 0, 0.15);\n",
              "      filter: drop-shadow(0px 1px 2px rgba(0, 0, 0, 0.3));\n",
              "      fill: #FFFFFF;\n",
              "    }\n",
              "  </style>\n",
              "\n",
              "      <script>\n",
              "        const buttonEl =\n",
              "          document.querySelector('#df-3fa36832-e5fc-4e79-9065-b18fad40909f button.colab-df-convert');\n",
              "        buttonEl.style.display =\n",
              "          google.colab.kernel.accessAllowed ? 'block' : 'none';\n",
              "\n",
              "        async function convertToInteractive(key) {\n",
              "          const element = document.querySelector('#df-3fa36832-e5fc-4e79-9065-b18fad40909f');\n",
              "          const dataTable =\n",
              "            await google.colab.kernel.invokeFunction('convertToInteractive',\n",
              "                                                     [key], {});\n",
              "          if (!dataTable) return;\n",
              "\n",
              "          const docLinkHtml = 'Like what you see? Visit the ' +\n",
              "            '<a target=\"_blank\" href=https://colab.research.google.com/notebooks/data_table.ipynb>data table notebook</a>'\n",
              "            + ' to learn more about interactive tables.';\n",
              "          element.innerHTML = '';\n",
              "          dataTable['output_type'] = 'display_data';\n",
              "          await google.colab.output.renderOutput(dataTable, element);\n",
              "          const docLink = document.createElement('div');\n",
              "          docLink.innerHTML = docLinkHtml;\n",
              "          element.appendChild(docLink);\n",
              "        }\n",
              "      </script>\n",
              "    </div>\n",
              "  </div>\n",
              "  "
            ]
          },
          "metadata": {},
          "execution_count": 213
        }
      ]
    },
    {
      "cell_type": "markdown",
      "source": [
        "## *Категориальные*"
      ],
      "metadata": {
        "id": "e0TZ6YmFRPJP"
      }
    },
    {
      "cell_type": "code",
      "source": [
        "df3[['url', 'region', 'region_url', 'manufacturer', 'model', 'fuel', 'title_status', 'transmission', 'image_url', 'description', 'state', 'price_category', 'posting_date']].describe()"
      ],
      "metadata": {
        "colab": {
          "base_uri": "https://localhost:8080/"
        },
        "id": "rwxM3BLGVZ2x",
        "outputId": "99487922-7004-4a4d-94b5-e0dd7ed70f28"
      },
      "execution_count": null,
      "outputs": [
        {
          "output_type": "execute_result",
          "data": {
            "text/plain": [
              "                                                      url           region  \\\n",
              "count                                                9742             9742   \n",
              "unique                                               9742              393   \n",
              "top     https://chattanooga.craigslist.org/ctd/d/chatt...  kansas city, MO   \n",
              "freq                                                    1               86   \n",
              "\n",
              "                               region_url manufacturer  model  fuel  \\\n",
              "count                                9742         9742   9742  9742   \n",
              "unique                                405           39   3389     5   \n",
              "top     https://kansascity.craigslist.org         ford  f-150   gas   \n",
              "freq                                   86         1945    270  8233   \n",
              "\n",
              "       title_status transmission  \\\n",
              "count          9742         9742   \n",
              "unique            6            3   \n",
              "top           clean    automatic   \n",
              "freq           9430         7501   \n",
              "\n",
              "                                                image_url  \\\n",
              "count                                                9742   \n",
              "unique                                               8842   \n",
              "top     https://images.craigslist.org/00N0N_1xMPvfxRAI...   \n",
              "freq                                                  188   \n",
              "\n",
              "                                              description state  \\\n",
              "count                                                9742  9742   \n",
              "unique                                               9592    51   \n",
              "top     PLEASE VIEW THE FREE CARFAX HISTORY REPORT AT ...    ca   \n",
              "freq                                                    7  1086   \n",
              "\n",
              "       price_category              posting_date  \n",
              "count            9742                      9742  \n",
              "unique              3                      9703  \n",
              "top              high  2021-04-18T15:40:37-0400  \n",
              "freq             3396                         2  "
            ],
            "text/html": [
              "\n",
              "  <div id=\"df-8703156e-a725-41b9-8655-b3c9dc18ce2d\">\n",
              "    <div class=\"colab-df-container\">\n",
              "      <div>\n",
              "<style scoped>\n",
              "    .dataframe tbody tr th:only-of-type {\n",
              "        vertical-align: middle;\n",
              "    }\n",
              "\n",
              "    .dataframe tbody tr th {\n",
              "        vertical-align: top;\n",
              "    }\n",
              "\n",
              "    .dataframe thead th {\n",
              "        text-align: right;\n",
              "    }\n",
              "</style>\n",
              "<table border=\"1\" class=\"dataframe\">\n",
              "  <thead>\n",
              "    <tr style=\"text-align: right;\">\n",
              "      <th></th>\n",
              "      <th>url</th>\n",
              "      <th>region</th>\n",
              "      <th>region_url</th>\n",
              "      <th>manufacturer</th>\n",
              "      <th>model</th>\n",
              "      <th>fuel</th>\n",
              "      <th>title_status</th>\n",
              "      <th>transmission</th>\n",
              "      <th>image_url</th>\n",
              "      <th>description</th>\n",
              "      <th>state</th>\n",
              "      <th>price_category</th>\n",
              "      <th>posting_date</th>\n",
              "    </tr>\n",
              "  </thead>\n",
              "  <tbody>\n",
              "    <tr>\n",
              "      <th>count</th>\n",
              "      <td>9742</td>\n",
              "      <td>9742</td>\n",
              "      <td>9742</td>\n",
              "      <td>9742</td>\n",
              "      <td>9742</td>\n",
              "      <td>9742</td>\n",
              "      <td>9742</td>\n",
              "      <td>9742</td>\n",
              "      <td>9742</td>\n",
              "      <td>9742</td>\n",
              "      <td>9742</td>\n",
              "      <td>9742</td>\n",
              "      <td>9742</td>\n",
              "    </tr>\n",
              "    <tr>\n",
              "      <th>unique</th>\n",
              "      <td>9742</td>\n",
              "      <td>393</td>\n",
              "      <td>405</td>\n",
              "      <td>39</td>\n",
              "      <td>3389</td>\n",
              "      <td>5</td>\n",
              "      <td>6</td>\n",
              "      <td>3</td>\n",
              "      <td>8842</td>\n",
              "      <td>9592</td>\n",
              "      <td>51</td>\n",
              "      <td>3</td>\n",
              "      <td>9703</td>\n",
              "    </tr>\n",
              "    <tr>\n",
              "      <th>top</th>\n",
              "      <td>https://chattanooga.craigslist.org/ctd/d/chatt...</td>\n",
              "      <td>kansas city, MO</td>\n",
              "      <td>https://kansascity.craigslist.org</td>\n",
              "      <td>ford</td>\n",
              "      <td>f-150</td>\n",
              "      <td>gas</td>\n",
              "      <td>clean</td>\n",
              "      <td>automatic</td>\n",
              "      <td>https://images.craigslist.org/00N0N_1xMPvfxRAI...</td>\n",
              "      <td>PLEASE VIEW THE FREE CARFAX HISTORY REPORT AT ...</td>\n",
              "      <td>ca</td>\n",
              "      <td>high</td>\n",
              "      <td>2021-04-18T15:40:37-0400</td>\n",
              "    </tr>\n",
              "    <tr>\n",
              "      <th>freq</th>\n",
              "      <td>1</td>\n",
              "      <td>86</td>\n",
              "      <td>86</td>\n",
              "      <td>1945</td>\n",
              "      <td>270</td>\n",
              "      <td>8233</td>\n",
              "      <td>9430</td>\n",
              "      <td>7501</td>\n",
              "      <td>188</td>\n",
              "      <td>7</td>\n",
              "      <td>1086</td>\n",
              "      <td>3396</td>\n",
              "      <td>2</td>\n",
              "    </tr>\n",
              "  </tbody>\n",
              "</table>\n",
              "</div>\n",
              "      <button class=\"colab-df-convert\" onclick=\"convertToInteractive('df-8703156e-a725-41b9-8655-b3c9dc18ce2d')\"\n",
              "              title=\"Convert this dataframe to an interactive table.\"\n",
              "              style=\"display:none;\">\n",
              "        \n",
              "  <svg xmlns=\"http://www.w3.org/2000/svg\" height=\"24px\"viewBox=\"0 0 24 24\"\n",
              "       width=\"24px\">\n",
              "    <path d=\"M0 0h24v24H0V0z\" fill=\"none\"/>\n",
              "    <path d=\"M18.56 5.44l.94 2.06.94-2.06 2.06-.94-2.06-.94-.94-2.06-.94 2.06-2.06.94zm-11 1L8.5 8.5l.94-2.06 2.06-.94-2.06-.94L8.5 2.5l-.94 2.06-2.06.94zm10 10l.94 2.06.94-2.06 2.06-.94-2.06-.94-.94-2.06-.94 2.06-2.06.94z\"/><path d=\"M17.41 7.96l-1.37-1.37c-.4-.4-.92-.59-1.43-.59-.52 0-1.04.2-1.43.59L10.3 9.45l-7.72 7.72c-.78.78-.78 2.05 0 2.83L4 21.41c.39.39.9.59 1.41.59.51 0 1.02-.2 1.41-.59l7.78-7.78 2.81-2.81c.8-.78.8-2.07 0-2.86zM5.41 20L4 18.59l7.72-7.72 1.47 1.35L5.41 20z\"/>\n",
              "  </svg>\n",
              "      </button>\n",
              "      \n",
              "  <style>\n",
              "    .colab-df-container {\n",
              "      display:flex;\n",
              "      flex-wrap:wrap;\n",
              "      gap: 12px;\n",
              "    }\n",
              "\n",
              "    .colab-df-convert {\n",
              "      background-color: #E8F0FE;\n",
              "      border: none;\n",
              "      border-radius: 50%;\n",
              "      cursor: pointer;\n",
              "      display: none;\n",
              "      fill: #1967D2;\n",
              "      height: 32px;\n",
              "      padding: 0 0 0 0;\n",
              "      width: 32px;\n",
              "    }\n",
              "\n",
              "    .colab-df-convert:hover {\n",
              "      background-color: #E2EBFA;\n",
              "      box-shadow: 0px 1px 2px rgba(60, 64, 67, 0.3), 0px 1px 3px 1px rgba(60, 64, 67, 0.15);\n",
              "      fill: #174EA6;\n",
              "    }\n",
              "\n",
              "    [theme=dark] .colab-df-convert {\n",
              "      background-color: #3B4455;\n",
              "      fill: #D2E3FC;\n",
              "    }\n",
              "\n",
              "    [theme=dark] .colab-df-convert:hover {\n",
              "      background-color: #434B5C;\n",
              "      box-shadow: 0px 1px 3px 1px rgba(0, 0, 0, 0.15);\n",
              "      filter: drop-shadow(0px 1px 2px rgba(0, 0, 0, 0.3));\n",
              "      fill: #FFFFFF;\n",
              "    }\n",
              "  </style>\n",
              "\n",
              "      <script>\n",
              "        const buttonEl =\n",
              "          document.querySelector('#df-8703156e-a725-41b9-8655-b3c9dc18ce2d button.colab-df-convert');\n",
              "        buttonEl.style.display =\n",
              "          google.colab.kernel.accessAllowed ? 'block' : 'none';\n",
              "\n",
              "        async function convertToInteractive(key) {\n",
              "          const element = document.querySelector('#df-8703156e-a725-41b9-8655-b3c9dc18ce2d');\n",
              "          const dataTable =\n",
              "            await google.colab.kernel.invokeFunction('convertToInteractive',\n",
              "                                                     [key], {});\n",
              "          if (!dataTable) return;\n",
              "\n",
              "          const docLinkHtml = 'Like what you see? Visit the ' +\n",
              "            '<a target=\"_blank\" href=https://colab.research.google.com/notebooks/data_table.ipynb>data table notebook</a>'\n",
              "            + ' to learn more about interactive tables.';\n",
              "          element.innerHTML = '';\n",
              "          dataTable['output_type'] = 'display_data';\n",
              "          await google.colab.output.renderOutput(dataTable, element);\n",
              "          const docLink = document.createElement('div');\n",
              "          docLink.innerHTML = docLinkHtml;\n",
              "          element.appendChild(docLink);\n",
              "        }\n",
              "      </script>\n",
              "    </div>\n",
              "  </div>\n",
              "  "
            ]
          },
          "metadata": {},
          "execution_count": 214
        }
      ]
    },
    {
      "cell_type": "markdown",
      "source": [
        "# **Feature Generation**\n",
        "\n",
        "---\n",
        "Существуют различные способы повышения качества работы моделей машинного обучения. Одним из таких способов является создание новых признаков:\n",
        "\n",
        "1) Математическое преобразование\n",
        "2) Групповое преобразование\n",
        "3) Счет количества признаков\n"
      ],
      "metadata": {
        "id": "s_rURb7EaGRG"
      }
    },
    {
      "cell_type": "code",
      "source": [
        "# для чего нужна генерация признаков?\n",
        "# Снижение скорости расчета или требуемого объема данных\n",
        "# Улучшение интерпретируемость модели\n",
        "# Повышение точности предсказаний\n",
        "# Как правильно сгенерировать признаки. от чего мы оттакливаемся?\n",
        "\n",
        "df3['model_len'] = df3.apply(lambda x: len(x.model) , axis=1)\n",
        "df3['model_len']\n",
        "\n",
        "df3['age_category'] = df3.apply(lambda x: 'new' if x.year > 2013 else ('old' if x.year < 2006 else 'average'), axis = 1)\n",
        "df3['age_category']\n",
        "\n",
        "df3['model_word_count'] = df3.apply(lambda x: len(x.model.split(' ')), axis=1)\n",
        "df3['model_word_count']\n",
        "\n",
        "df3['short_model'] = df3.model.apply(lambda x: x.lower().split(' ')[0])\n",
        "df3['short_model']\n"
      ],
      "metadata": {
        "colab": {
          "base_uri": "https://localhost:8080/"
        },
        "id": "gzF1tvkNiU1-",
        "outputId": "00755827-1c34-4ef5-bf8b-aec4cfa22131"
      },
      "execution_count": null,
      "outputs": [
        {
          "output_type": "execute_result",
          "data": {
            "text/plain": [
              "0            2500\n",
              "2            golf\n",
              "3            rav4\n",
              "4          altima\n",
              "5               1\n",
              "           ...   \n",
              "10045        rav4\n",
              "10046    wrangler\n",
              "10047          a3\n",
              "10048     cayenne\n",
              "10049        1500\n",
              "Name: short_model, Length: 9742, dtype: object"
            ]
          },
          "metadata": {},
          "execution_count": 196
        }
      ]
    },
    {
      "cell_type": "markdown",
      "source": [
        "## OHE Кодирование"
      ],
      "metadata": {
        "id": "rfMP7d4YstjQ"
      }
    },
    {
      "cell_type": "code",
      "source": [
        "data = df3[['short_model', 'transmission', 'region', 'manufacturer', 'state', 'title_status', 'age_category', 'fuel']]\n",
        "data\n",
        "ohe = OneHotEncoder(sparse=False)\n",
        "ohe\n",
        "ohe.fit(df3[['short_model', 'transmission', 'region', 'manufacturer', 'state', 'title_status', 'age_category', 'fuel']])\n",
        "ohe.get_feature_names()\n",
        "ohe_categor = ohe.transform(df3[['short_model', 'transmission', 'region', 'manufacturer', 'state', 'title_status', 'age_category', 'fuel']])\n",
        "ohe_categor.shape\n",
        "df3[ohe.get_feature_names()] = ohe_categor\n",
        "df3.shape"
      ],
      "metadata": {
        "colab": {
          "base_uri": "https://localhost:8080/"
        },
        "id": "g-Jpo_QgI-2-",
        "outputId": "22b4ed9c-1dee-448a-d0d1-e2958fe07c7e"
      },
      "execution_count": null,
      "outputs": [
        {
          "output_type": "stream",
          "name": "stderr",
          "text": [
            "/usr/local/lib/python3.7/dist-packages/sklearn/utils/deprecation.py:87: FutureWarning: Function get_feature_names is deprecated; get_feature_names is deprecated in 1.0 and will be removed in 1.2. Please use get_feature_names_out instead.\n",
            "  warnings.warn(msg, category=FutureWarning)\n",
            "/usr/local/lib/python3.7/dist-packages/sklearn/utils/deprecation.py:87: FutureWarning: Function get_feature_names is deprecated; get_feature_names is deprecated in 1.0 and will be removed in 1.2. Please use get_feature_names_out instead.\n",
            "  warnings.warn(msg, category=FutureWarning)\n"
          ]
        },
        {
          "output_type": "execute_result",
          "data": {
            "text/plain": [
              "(9742, 1464)"
            ]
          },
          "metadata": {},
          "execution_count": 215
        }
      ]
    },
    {
      "cell_type": "markdown",
      "source": [
        "\n",
        "# **НОРМАЛИЗАЦИЯ, СТАБИЛИЗАЦИЯ ДАННЫХ**\n",
        "\n",
        "\n",
        "---\n",
        "\n",
        "\n"
      ],
      "metadata": {
        "id": "OKJoTlEgjELQ"
      }
    },
    {
      "cell_type": "code",
      "source": [
        "# нормализация нужна, чтобы привезти данные к нормальному виду [0:1]\n",
        "#чтобы переменная не могла влиять на другую больше чем остальные\n",
        "# Cтандартизация или Z масштабирование\n",
        "\n",
        "std_scaler = StandardScaler()\n",
        "std_scaler\n",
        "std_scaler.fit(df3[['odometer', 'price', 'lat', 'long', 'year', 'model_len', 'model_word_count', 'model_len', 'model_word_count']])\n",
        "print('Среднее:', std_scaler.mean_)\n",
        "print('Дисперсия', std_scaler.var_)\n",
        "std_scaled = std_scaler.transform(df3[['odometer', 'price', 'lat', 'long', 'year', 'model_len', 'model_word_count', 'model_len', 'model_word_count']])\n",
        "std_scaled\n",
        "\n",
        "# запишем новые значение стандартизированных данных\n",
        "df3[['std_scaled_odometer', 'std_scaled_price', 'std_scaled_lat', 'std_scaled_long', 'std_scaled_year', 'std_scaled_model_len', 'std_scaled_model_word_count', 'std_scaled_model_len', 'std_scaled_model_word_count']] = std_scaled\n"
      ],
      "metadata": {
        "colab": {
          "base_uri": "https://localhost:8080/"
        },
        "id": "uT0_4X1qjdZy",
        "outputId": "e0ca9aea-1fa4-4d49-a799-e0d0b83c39f5"
      },
      "execution_count": null,
      "outputs": [
        {
          "output_type": "stream",
          "name": "stdout",
          "text": [
            "Среднее: [ 9.60580893e+04  1.89063891e+04  3.86107208e+01 -9.40817742e+01\n",
            "  2.01168405e+03  1.19616095e+01  2.17060152e+00  1.19616095e+01\n",
            "  2.17060152e+00]\n",
            "Дисперсия [7.60065506e+09 1.87565968e+08 3.41177559e+01 3.26376041e+02\n",
            " 4.14561180e+01 7.50443073e+01 2.17003288e+00 7.50443073e+01\n",
            " 2.17003288e+00]\n"
          ]
        }
      ]
    },
    {
      "cell_type": "code",
      "source": [
        "\n",
        "# еще одна нормализация - это min-max нормализация значения [0;1]\n",
        "from sklearn.preprocessing import MinMaxScaler\n",
        "df3[['lat', 'long']]\n",
        "mm_scaler = MinMaxScaler()\n",
        "mm_scaler\n",
        "mm_scaler.fit(df3[['lat', 'long']])\n",
        "mm_scaled = mm_scaler.transform(df3[['lat', 'long']])\n",
        "mm_scaled\n",
        "df3[['lat_mm', 'long_mm']] = mm_scaled\n",
        "data = df3[['lat', 'std_scaled_lat', 'lat_mm', 'long', 'std_scaled_long', 'long_mm']]\n",
        "data\n",
        "df3[['lat', 'std_scaled_lat', 'lat_mm', 'long', 'std_scaled_long', 'long_mm']].describe()\n",
        "\n",
        "# Матрица корреляций для всех географических признаков, чтобы убедиться, что нормализация признаков сохранила свойства исходных признаков.\n",
        "df3[['lat', 'std_scaled_lat', 'lat_mm', 'long', 'std_scaled_long', 'long_mm']].corr()"
      ],
      "metadata": {
        "colab": {
          "base_uri": "https://localhost:8080/",
          "height": 237
        },
        "id": "NnRv_D-wSPUH",
        "outputId": "c190158b-bec3-4b64-957b-82f062f5f2f3"
      },
      "execution_count": null,
      "outputs": [
        {
          "output_type": "execute_result",
          "data": {
            "text/plain": [
              "                      lat  std_scaled_lat    lat_mm      long  \\\n",
              "lat              1.000000        1.000000  1.000000 -0.167957   \n",
              "std_scaled_lat   1.000000        1.000000  1.000000 -0.167957   \n",
              "lat_mm           1.000000        1.000000  1.000000 -0.167957   \n",
              "long            -0.167957       -0.167957 -0.167957  1.000000   \n",
              "std_scaled_long -0.167957       -0.167957 -0.167957  1.000000   \n",
              "long_mm         -0.167957       -0.167957 -0.167957  1.000000   \n",
              "\n",
              "                 std_scaled_long   long_mm  \n",
              "lat                    -0.167957 -0.167957  \n",
              "std_scaled_lat         -0.167957 -0.167957  \n",
              "lat_mm                 -0.167957 -0.167957  \n",
              "long                    1.000000  1.000000  \n",
              "std_scaled_long         1.000000  1.000000  \n",
              "long_mm                 1.000000  1.000000  "
            ],
            "text/html": [
              "\n",
              "  <div id=\"df-45d341f0-d06e-48d4-b9f8-e8fcdf715f48\">\n",
              "    <div class=\"colab-df-container\">\n",
              "      <div>\n",
              "<style scoped>\n",
              "    .dataframe tbody tr th:only-of-type {\n",
              "        vertical-align: middle;\n",
              "    }\n",
              "\n",
              "    .dataframe tbody tr th {\n",
              "        vertical-align: top;\n",
              "    }\n",
              "\n",
              "    .dataframe thead th {\n",
              "        text-align: right;\n",
              "    }\n",
              "</style>\n",
              "<table border=\"1\" class=\"dataframe\">\n",
              "  <thead>\n",
              "    <tr style=\"text-align: right;\">\n",
              "      <th></th>\n",
              "      <th>lat</th>\n",
              "      <th>std_scaled_lat</th>\n",
              "      <th>lat_mm</th>\n",
              "      <th>long</th>\n",
              "      <th>std_scaled_long</th>\n",
              "      <th>long_mm</th>\n",
              "    </tr>\n",
              "  </thead>\n",
              "  <tbody>\n",
              "    <tr>\n",
              "      <th>lat</th>\n",
              "      <td>1.000000</td>\n",
              "      <td>1.000000</td>\n",
              "      <td>1.000000</td>\n",
              "      <td>-0.167957</td>\n",
              "      <td>-0.167957</td>\n",
              "      <td>-0.167957</td>\n",
              "    </tr>\n",
              "    <tr>\n",
              "      <th>std_scaled_lat</th>\n",
              "      <td>1.000000</td>\n",
              "      <td>1.000000</td>\n",
              "      <td>1.000000</td>\n",
              "      <td>-0.167957</td>\n",
              "      <td>-0.167957</td>\n",
              "      <td>-0.167957</td>\n",
              "    </tr>\n",
              "    <tr>\n",
              "      <th>lat_mm</th>\n",
              "      <td>1.000000</td>\n",
              "      <td>1.000000</td>\n",
              "      <td>1.000000</td>\n",
              "      <td>-0.167957</td>\n",
              "      <td>-0.167957</td>\n",
              "      <td>-0.167957</td>\n",
              "    </tr>\n",
              "    <tr>\n",
              "      <th>long</th>\n",
              "      <td>-0.167957</td>\n",
              "      <td>-0.167957</td>\n",
              "      <td>-0.167957</td>\n",
              "      <td>1.000000</td>\n",
              "      <td>1.000000</td>\n",
              "      <td>1.000000</td>\n",
              "    </tr>\n",
              "    <tr>\n",
              "      <th>std_scaled_long</th>\n",
              "      <td>-0.167957</td>\n",
              "      <td>-0.167957</td>\n",
              "      <td>-0.167957</td>\n",
              "      <td>1.000000</td>\n",
              "      <td>1.000000</td>\n",
              "      <td>1.000000</td>\n",
              "    </tr>\n",
              "    <tr>\n",
              "      <th>long_mm</th>\n",
              "      <td>-0.167957</td>\n",
              "      <td>-0.167957</td>\n",
              "      <td>-0.167957</td>\n",
              "      <td>1.000000</td>\n",
              "      <td>1.000000</td>\n",
              "      <td>1.000000</td>\n",
              "    </tr>\n",
              "  </tbody>\n",
              "</table>\n",
              "</div>\n",
              "      <button class=\"colab-df-convert\" onclick=\"convertToInteractive('df-45d341f0-d06e-48d4-b9f8-e8fcdf715f48')\"\n",
              "              title=\"Convert this dataframe to an interactive table.\"\n",
              "              style=\"display:none;\">\n",
              "        \n",
              "  <svg xmlns=\"http://www.w3.org/2000/svg\" height=\"24px\"viewBox=\"0 0 24 24\"\n",
              "       width=\"24px\">\n",
              "    <path d=\"M0 0h24v24H0V0z\" fill=\"none\"/>\n",
              "    <path d=\"M18.56 5.44l.94 2.06.94-2.06 2.06-.94-2.06-.94-.94-2.06-.94 2.06-2.06.94zm-11 1L8.5 8.5l.94-2.06 2.06-.94-2.06-.94L8.5 2.5l-.94 2.06-2.06.94zm10 10l.94 2.06.94-2.06 2.06-.94-2.06-.94-.94-2.06-.94 2.06-2.06.94z\"/><path d=\"M17.41 7.96l-1.37-1.37c-.4-.4-.92-.59-1.43-.59-.52 0-1.04.2-1.43.59L10.3 9.45l-7.72 7.72c-.78.78-.78 2.05 0 2.83L4 21.41c.39.39.9.59 1.41.59.51 0 1.02-.2 1.41-.59l7.78-7.78 2.81-2.81c.8-.78.8-2.07 0-2.86zM5.41 20L4 18.59l7.72-7.72 1.47 1.35L5.41 20z\"/>\n",
              "  </svg>\n",
              "      </button>\n",
              "      \n",
              "  <style>\n",
              "    .colab-df-container {\n",
              "      display:flex;\n",
              "      flex-wrap:wrap;\n",
              "      gap: 12px;\n",
              "    }\n",
              "\n",
              "    .colab-df-convert {\n",
              "      background-color: #E8F0FE;\n",
              "      border: none;\n",
              "      border-radius: 50%;\n",
              "      cursor: pointer;\n",
              "      display: none;\n",
              "      fill: #1967D2;\n",
              "      height: 32px;\n",
              "      padding: 0 0 0 0;\n",
              "      width: 32px;\n",
              "    }\n",
              "\n",
              "    .colab-df-convert:hover {\n",
              "      background-color: #E2EBFA;\n",
              "      box-shadow: 0px 1px 2px rgba(60, 64, 67, 0.3), 0px 1px 3px 1px rgba(60, 64, 67, 0.15);\n",
              "      fill: #174EA6;\n",
              "    }\n",
              "\n",
              "    [theme=dark] .colab-df-convert {\n",
              "      background-color: #3B4455;\n",
              "      fill: #D2E3FC;\n",
              "    }\n",
              "\n",
              "    [theme=dark] .colab-df-convert:hover {\n",
              "      background-color: #434B5C;\n",
              "      box-shadow: 0px 1px 3px 1px rgba(0, 0, 0, 0.15);\n",
              "      filter: drop-shadow(0px 1px 2px rgba(0, 0, 0, 0.3));\n",
              "      fill: #FFFFFF;\n",
              "    }\n",
              "  </style>\n",
              "\n",
              "      <script>\n",
              "        const buttonEl =\n",
              "          document.querySelector('#df-45d341f0-d06e-48d4-b9f8-e8fcdf715f48 button.colab-df-convert');\n",
              "        buttonEl.style.display =\n",
              "          google.colab.kernel.accessAllowed ? 'block' : 'none';\n",
              "\n",
              "        async function convertToInteractive(key) {\n",
              "          const element = document.querySelector('#df-45d341f0-d06e-48d4-b9f8-e8fcdf715f48');\n",
              "          const dataTable =\n",
              "            await google.colab.kernel.invokeFunction('convertToInteractive',\n",
              "                                                     [key], {});\n",
              "          if (!dataTable) return;\n",
              "\n",
              "          const docLinkHtml = 'Like what you see? Visit the ' +\n",
              "            '<a target=\"_blank\" href=https://colab.research.google.com/notebooks/data_table.ipynb>data table notebook</a>'\n",
              "            + ' to learn more about interactive tables.';\n",
              "          element.innerHTML = '';\n",
              "          dataTable['output_type'] = 'display_data';\n",
              "          await google.colab.output.renderOutput(dataTable, element);\n",
              "          const docLink = document.createElement('div');\n",
              "          docLink.innerHTML = docLinkHtml;\n",
              "          element.appendChild(docLink);\n",
              "        }\n",
              "      </script>\n",
              "    </div>\n",
              "  </div>\n",
              "  "
            ]
          },
          "metadata": {},
          "execution_count": 217
        }
      ]
    },
    {
      "cell_type": "code",
      "source": [
        "# добавим признак месяц выставки объявления о продаже авто\n",
        "df3['month'] = df3['date'].dt.month\n",
        "df3['dayofweek'] = df3['date'].apply(lambda dw: pd.to_datetime(dw).weekday())\n",
        "df3['year_postadv'] = df3['date'].dt.year\n",
        "df3['diff_years'] = df3['year_postadv'] - df3['year']  \n",
        "df3[['posting_date', 'date', 'month', 'dayofweek', 'diff_years', 'year_postadv']]\n",
        "\n",
        "\n",
        "# Применим стандартизацию к новым признаками и сохраните результат в новые признаки вида month_std.\n",
        "std_scaler = StandardScaler()\n",
        "std_scaler\n",
        "\n",
        "std_scaler.fit(df3[['month', 'diff_years', 'dayofweek']])\n",
        "std_scaled = std_scaler.transform(df3[['month', 'diff_years', 'dayofweek']])\n",
        "std_scaled\n",
        "df3[['month_std', 'dayofweek_std', 'diff_years_std']] = std_scaled\n",
        "df3[['month_std', 'dayofweek_std', 'diff_years_std', 'month', 'diff_years', 'dayofweek']]"
      ],
      "metadata": {
        "colab": {
          "base_uri": "https://localhost:8080/",
          "height": 423
        },
        "id": "JDcvh-3YTaz5",
        "outputId": "2e4b53bc-521f-4c9a-bb61-cd80e2fc8bd3"
      },
      "execution_count": null,
      "outputs": [
        {
          "output_type": "execute_result",
          "data": {
            "text/plain": [
              "       month_std  dayofweek_std  diff_years_std  month  diff_years  dayofweek\n",
              "0      -0.615874      -1.291569        1.117509      4           1          5\n",
              "2      -0.615874      -0.825632       -0.377037      4           4          2\n",
              "3      -0.615874      -0.204383        1.117509      4           8          5\n",
              "4       1.623709      -1.446881       -1.373401      5           0          0\n",
              "5      -0.615874      -0.049071        0.121145      4           9          3\n",
              "...          ...            ...             ...    ...         ...        ...\n",
              "10045  -0.615874       1.504051        1.117509      4          19          5\n",
              "10046   1.623709       0.572178       -1.373401      5          13          0\n",
              "10047  -0.615874       0.106241        0.121145      4          10          3\n",
              "10048  -0.615874      -0.515008       -0.377037      4           6          2\n",
              "10049  -0.615874      -0.825632        1.117509      4           4          5\n",
              "\n",
              "[9742 rows x 6 columns]"
            ],
            "text/html": [
              "\n",
              "  <div id=\"df-566f04b4-ef95-4c71-a165-227fab79d839\">\n",
              "    <div class=\"colab-df-container\">\n",
              "      <div>\n",
              "<style scoped>\n",
              "    .dataframe tbody tr th:only-of-type {\n",
              "        vertical-align: middle;\n",
              "    }\n",
              "\n",
              "    .dataframe tbody tr th {\n",
              "        vertical-align: top;\n",
              "    }\n",
              "\n",
              "    .dataframe thead th {\n",
              "        text-align: right;\n",
              "    }\n",
              "</style>\n",
              "<table border=\"1\" class=\"dataframe\">\n",
              "  <thead>\n",
              "    <tr style=\"text-align: right;\">\n",
              "      <th></th>\n",
              "      <th>month_std</th>\n",
              "      <th>dayofweek_std</th>\n",
              "      <th>diff_years_std</th>\n",
              "      <th>month</th>\n",
              "      <th>diff_years</th>\n",
              "      <th>dayofweek</th>\n",
              "    </tr>\n",
              "  </thead>\n",
              "  <tbody>\n",
              "    <tr>\n",
              "      <th>0</th>\n",
              "      <td>-0.615874</td>\n",
              "      <td>-1.291569</td>\n",
              "      <td>1.117509</td>\n",
              "      <td>4</td>\n",
              "      <td>1</td>\n",
              "      <td>5</td>\n",
              "    </tr>\n",
              "    <tr>\n",
              "      <th>2</th>\n",
              "      <td>-0.615874</td>\n",
              "      <td>-0.825632</td>\n",
              "      <td>-0.377037</td>\n",
              "      <td>4</td>\n",
              "      <td>4</td>\n",
              "      <td>2</td>\n",
              "    </tr>\n",
              "    <tr>\n",
              "      <th>3</th>\n",
              "      <td>-0.615874</td>\n",
              "      <td>-0.204383</td>\n",
              "      <td>1.117509</td>\n",
              "      <td>4</td>\n",
              "      <td>8</td>\n",
              "      <td>5</td>\n",
              "    </tr>\n",
              "    <tr>\n",
              "      <th>4</th>\n",
              "      <td>1.623709</td>\n",
              "      <td>-1.446881</td>\n",
              "      <td>-1.373401</td>\n",
              "      <td>5</td>\n",
              "      <td>0</td>\n",
              "      <td>0</td>\n",
              "    </tr>\n",
              "    <tr>\n",
              "      <th>5</th>\n",
              "      <td>-0.615874</td>\n",
              "      <td>-0.049071</td>\n",
              "      <td>0.121145</td>\n",
              "      <td>4</td>\n",
              "      <td>9</td>\n",
              "      <td>3</td>\n",
              "    </tr>\n",
              "    <tr>\n",
              "      <th>...</th>\n",
              "      <td>...</td>\n",
              "      <td>...</td>\n",
              "      <td>...</td>\n",
              "      <td>...</td>\n",
              "      <td>...</td>\n",
              "      <td>...</td>\n",
              "    </tr>\n",
              "    <tr>\n",
              "      <th>10045</th>\n",
              "      <td>-0.615874</td>\n",
              "      <td>1.504051</td>\n",
              "      <td>1.117509</td>\n",
              "      <td>4</td>\n",
              "      <td>19</td>\n",
              "      <td>5</td>\n",
              "    </tr>\n",
              "    <tr>\n",
              "      <th>10046</th>\n",
              "      <td>1.623709</td>\n",
              "      <td>0.572178</td>\n",
              "      <td>-1.373401</td>\n",
              "      <td>5</td>\n",
              "      <td>13</td>\n",
              "      <td>0</td>\n",
              "    </tr>\n",
              "    <tr>\n",
              "      <th>10047</th>\n",
              "      <td>-0.615874</td>\n",
              "      <td>0.106241</td>\n",
              "      <td>0.121145</td>\n",
              "      <td>4</td>\n",
              "      <td>10</td>\n",
              "      <td>3</td>\n",
              "    </tr>\n",
              "    <tr>\n",
              "      <th>10048</th>\n",
              "      <td>-0.615874</td>\n",
              "      <td>-0.515008</td>\n",
              "      <td>-0.377037</td>\n",
              "      <td>4</td>\n",
              "      <td>6</td>\n",
              "      <td>2</td>\n",
              "    </tr>\n",
              "    <tr>\n",
              "      <th>10049</th>\n",
              "      <td>-0.615874</td>\n",
              "      <td>-0.825632</td>\n",
              "      <td>1.117509</td>\n",
              "      <td>4</td>\n",
              "      <td>4</td>\n",
              "      <td>5</td>\n",
              "    </tr>\n",
              "  </tbody>\n",
              "</table>\n",
              "<p>9742 rows × 6 columns</p>\n",
              "</div>\n",
              "      <button class=\"colab-df-convert\" onclick=\"convertToInteractive('df-566f04b4-ef95-4c71-a165-227fab79d839')\"\n",
              "              title=\"Convert this dataframe to an interactive table.\"\n",
              "              style=\"display:none;\">\n",
              "        \n",
              "  <svg xmlns=\"http://www.w3.org/2000/svg\" height=\"24px\"viewBox=\"0 0 24 24\"\n",
              "       width=\"24px\">\n",
              "    <path d=\"M0 0h24v24H0V0z\" fill=\"none\"/>\n",
              "    <path d=\"M18.56 5.44l.94 2.06.94-2.06 2.06-.94-2.06-.94-.94-2.06-.94 2.06-2.06.94zm-11 1L8.5 8.5l.94-2.06 2.06-.94-2.06-.94L8.5 2.5l-.94 2.06-2.06.94zm10 10l.94 2.06.94-2.06 2.06-.94-2.06-.94-.94-2.06-.94 2.06-2.06.94z\"/><path d=\"M17.41 7.96l-1.37-1.37c-.4-.4-.92-.59-1.43-.59-.52 0-1.04.2-1.43.59L10.3 9.45l-7.72 7.72c-.78.78-.78 2.05 0 2.83L4 21.41c.39.39.9.59 1.41.59.51 0 1.02-.2 1.41-.59l7.78-7.78 2.81-2.81c.8-.78.8-2.07 0-2.86zM5.41 20L4 18.59l7.72-7.72 1.47 1.35L5.41 20z\"/>\n",
              "  </svg>\n",
              "      </button>\n",
              "      \n",
              "  <style>\n",
              "    .colab-df-container {\n",
              "      display:flex;\n",
              "      flex-wrap:wrap;\n",
              "      gap: 12px;\n",
              "    }\n",
              "\n",
              "    .colab-df-convert {\n",
              "      background-color: #E8F0FE;\n",
              "      border: none;\n",
              "      border-radius: 50%;\n",
              "      cursor: pointer;\n",
              "      display: none;\n",
              "      fill: #1967D2;\n",
              "      height: 32px;\n",
              "      padding: 0 0 0 0;\n",
              "      width: 32px;\n",
              "    }\n",
              "\n",
              "    .colab-df-convert:hover {\n",
              "      background-color: #E2EBFA;\n",
              "      box-shadow: 0px 1px 2px rgba(60, 64, 67, 0.3), 0px 1px 3px 1px rgba(60, 64, 67, 0.15);\n",
              "      fill: #174EA6;\n",
              "    }\n",
              "\n",
              "    [theme=dark] .colab-df-convert {\n",
              "      background-color: #3B4455;\n",
              "      fill: #D2E3FC;\n",
              "    }\n",
              "\n",
              "    [theme=dark] .colab-df-convert:hover {\n",
              "      background-color: #434B5C;\n",
              "      box-shadow: 0px 1px 3px 1px rgba(0, 0, 0, 0.15);\n",
              "      filter: drop-shadow(0px 1px 2px rgba(0, 0, 0, 0.3));\n",
              "      fill: #FFFFFF;\n",
              "    }\n",
              "  </style>\n",
              "\n",
              "      <script>\n",
              "        const buttonEl =\n",
              "          document.querySelector('#df-566f04b4-ef95-4c71-a165-227fab79d839 button.colab-df-convert');\n",
              "        buttonEl.style.display =\n",
              "          google.colab.kernel.accessAllowed ? 'block' : 'none';\n",
              "\n",
              "        async function convertToInteractive(key) {\n",
              "          const element = document.querySelector('#df-566f04b4-ef95-4c71-a165-227fab79d839');\n",
              "          const dataTable =\n",
              "            await google.colab.kernel.invokeFunction('convertToInteractive',\n",
              "                                                     [key], {});\n",
              "          if (!dataTable) return;\n",
              "\n",
              "          const docLinkHtml = 'Like what you see? Visit the ' +\n",
              "            '<a target=\"_blank\" href=https://colab.research.google.com/notebooks/data_table.ipynb>data table notebook</a>'\n",
              "            + ' to learn more about interactive tables.';\n",
              "          element.innerHTML = '';\n",
              "          dataTable['output_type'] = 'display_data';\n",
              "          await google.colab.output.renderOutput(dataTable, element);\n",
              "          const docLink = document.createElement('div');\n",
              "          docLink.innerHTML = docLinkHtml;\n",
              "          element.appendChild(docLink);\n",
              "        }\n",
              "      </script>\n",
              "    </div>\n",
              "  </div>\n",
              "  "
            ]
          },
          "metadata": {},
          "execution_count": 218
        }
      ]
    },
    {
      "cell_type": "markdown",
      "source": [
        "# **ЛИНЕЙНАЯ РЕГРЕССИЯ** \n",
        "\n",
        "\n",
        "---\n",
        "\n"
      ],
      "metadata": {
        "id": "Uco04puRhcK8"
      }
    },
    {
      "cell_type": "code",
      "source": [
        "df_prepared = df3.drop(columns=['id', 'url', 'region', 'region_url', 'manufacturer',\n",
        "                    'model', 'fuel', 'title_status', 'transmission', 'image_url', 'description', 'state', 'posting_date',\n",
        "                    'age_category', 'short_model', 'price_category', 'date'])\n",
        "\n",
        "\n",
        "LinRegr = df_prepared.copy()\n",
        "LinRegr.shape"
      ],
      "metadata": {
        "id": "R0bykLhCwcdk",
        "colab": {
          "base_uri": "https://localhost:8080/"
        },
        "outputId": "8e330c09-91b4-4dfb-e70b-28372bf8b271"
      },
      "execution_count": null,
      "outputs": [
        {
          "output_type": "execute_result",
          "data": {
            "text/plain": [
              "(9742, 1447)"
            ]
          },
          "metadata": {},
          "execution_count": 201
        }
      ]
    },
    {
      "cell_type": "code",
      "source": [
        "# Подготовка данных.\n",
        "#Разделите выборку на треин и тест в отношении 70/30\n",
        "train, test = train_test_split(LinRegr, test_size=0.3, random_state=42)\n",
        "print('выборка всего датасет =', len(LinRegr), '-', 100, '%')\n",
        "print('тренировочная выборка =', len(train), '-', len(train)*100/len(LinRegr), '%')\n",
        "print('тестова выборка =', len(test), '-', len(test)*100/len(LinRegr), '%')"
      ],
      "metadata": {
        "colab": {
          "base_uri": "https://localhost:8080/"
        },
        "id": "YXzUR-0nhcK8",
        "outputId": "e9044f95-c4be-41af-a945-54091e6c1e42"
      },
      "execution_count": null,
      "outputs": [
        {
          "output_type": "stream",
          "name": "stdout",
          "text": [
            "выборка всего датасет = 9742 - 100 %\n",
            "тренировочная выборка = 6819 - 69.99589406692671 %\n",
            "тестова выборка = 2923 - 30.00410593307329 %\n"
          ]
        }
      ]
    },
    {
      "cell_type": "code",
      "source": [
        "train_noprice = train.drop(columns='price')\n",
        "test_noprice = test.drop(columns='price')\n",
        "#Обучите модель линейной регрессии с дефолтными параметрами.\n",
        "linregr = LinearRegression()\n",
        "linregr.fit(train_noprice, train.price)"
      ],
      "metadata": {
        "colab": {
          "base_uri": "https://localhost:8080/"
        },
        "outputId": "fe5680a6-d089-4f8b-c33e-54678716bb83",
        "id": "O9IK2JwKhcK9"
      },
      "execution_count": null,
      "outputs": [
        {
          "output_type": "execute_result",
          "data": {
            "text/plain": [
              "LinearRegression()"
            ]
          },
          "metadata": {},
          "execution_count": 203
        }
      ]
    },
    {
      "cell_type": "code",
      "source": [
        "#Ошибка при расчете линейрной регрессии mae на тестовой выборке составляет 0,001 $.\n",
        "from sklearn.metrics import mean_absolute_error\n",
        "pred = linregr.predict(test_noprice)\n",
        "mean_absolute_error(test.price, pred)"
      ],
      "metadata": {
        "colab": {
          "base_uri": "https://localhost:8080/"
        },
        "outputId": "3ad128b4-22a8-45bb-f0ba-9a2399691d39",
        "id": "0cbAPZ7WhcK9"
      },
      "execution_count": null,
      "outputs": [
        {
          "output_type": "execute_result",
          "data": {
            "text/plain": [
              "2.34714430276589e-06"
            ]
          },
          "metadata": {},
          "execution_count": 204
        }
      ]
    },
    {
      "cell_type": "markdown",
      "source": [
        "# **ВЫВОДЫ ПО ЛИНЕЙНОЙ РЕГРЕССИИ**\n",
        "\n",
        "\n",
        "---\n",
        "\n",
        "\n",
        "Средние значения стоимости авто по проивзодителям от 11692 до 22283 $\n",
        "\n",
        "Погрешность при расчете линейной регрессии 0,001, очень малая погрешность\n",
        "\n",
        "\n",
        "---\n",
        "\n"
      ],
      "metadata": {
        "id": "X5kIjmZvlgL3"
      }
    },
    {
      "cell_type": "markdown",
      "source": [
        "# **ПЕРЕД НАЧАЛОМ ЛЮБОГО МОДЕЛИРОВАНИЯ**\n",
        "1. ОПРЕДЕЛИТЬ МЕТРИКУ\n",
        "ОПРЕДЕЛИТЬ ЦЕЛЕВУЮ ПЕРЕМЕННУЮ И ФИЧИ\n",
        "2. ВЫБРАТЬ АЛГОРИТМ\n",
        "3. ОБУЧИТЬ МОДЕЛЬ\n",
        "4. ОЦЕНИТЬ КАЧЕСТВО МОДЕЛИЭ\n",
        "\n",
        "ЕСТЬ ОБУЧЕНИЕ С УЧИТЕЛЕМ (НА РАЗМЕЧЕННОЙ ВЫБОРКЕ) ПРОНУМЕРОВАНА ЗНАЧЕНИЯМИ ЦЕЛЕВЫХ ПЕРЕМЕННЫХ) ТЕ ЕСТЬ СТОЛБЕЦ 0 1\n",
        "ОБУЧЕНИЕ БЕЗ УЧИТЕЛЯ (ДАННЫЕ НЕ РАЗМЕЧЕНЫ ЗНАЧЕНИЯМИ ЦЕЛЕВОЙ ПЕРЕМЕННОЙ)\n",
        "\n",
        "ТРИ ОСНОВНЫХ ТИПА МАШИННОГО ОБУЧЕНИЯ:\n",
        "\n",
        "\n",
        "---\n",
        "\n",
        "\n",
        "КЛАССИФИКАЦИЯ - КАТЕГОРИАЛЬНАЯ ВЕЛИЧИНА (ПОНРАВИТСЯ ИЛИ НЕТ КНИГА 0 - 1 БИНАРНАЯ, ИЛИ КОЛ-ВО МАШИН НА ФОТО - МНОГОКЛАССОВАЯ)\n",
        "\n",
        "\n",
        "\n",
        "---\n",
        "\n",
        "\n",
        "РЕГРЕССИЯ - ПРЕДСКАЗАТЬ НЕПРЕРЫВНУЮ ВЕЛИЧИНУ (СТОИМОСТЬ КВ ПО ЕЕ ХАР-КИ)\n",
        "\n",
        "\n",
        "---\n",
        "\n",
        "\n",
        "\n",
        "КЛАСТЕРИЗАЦИЯ - ПРЕДСКАЗАТЬ ГРУППУ/КЛАСТЕР (ВНУТРИ ГРУППЫ/КЛАСТЕРА ОБЪЕКТЫ ПОХОЖИ ДРУГ НА ДРУГА И НЕ ПОХОЖИ НА ОБЪЕКТЫ ИЗ ДРУГИХ ГРУПП) ДОПУСТИМ  РАЗБИТЬ КЛИЕНТОВ ПО ИХ ПОКУПАТЕЛЬСКОЙ СПОСОБНОСТИ\n",
        "\n",
        "\n",
        "---\n",
        "\n"
      ],
      "metadata": {
        "id": "oV-Imo_o-4PW"
      }
    },
    {
      "cell_type": "markdown",
      "source": [
        "КАК ОПРЕДЕЛИТЬ КАЧ-ВО МОДЕЛИ - ПОСЧИТАТЬ МЕТРИКУ\n",
        "КАК ПОСЧИТАТЬ МЕТРИКУ? - СТАНДАРТНЫЙ СПОСОБ TRAIN TEST SPLIT\n",
        "НА ТРЕНИРОВОЧНОЙ ОБУЧАЮТ МОДЕЛЬ, НА ТЕСТОВОЙ ЗАМЕРЯЮТ ЕЕ КАЧ-ВО\n",
        "пропорции 80/20 или 70/30 , где большая часть - тренировочная\n",
        "\n",
        "\n",
        "\n",
        "---\n",
        "МЕТРИКА КАЧЕСТВА КЛАССИФИКАЦИИ - ACCURACY\n",
        "СКОЛЬКО ПРОЦЕНТОВ ЗНАЧЕНИЙ БЫЛО УГАДАНО\n",
        "ОТНОШЕНИЕ ПРАВИЛЬНЫХ ПРОГНОЗОВ/К ОБЩЕМУ КОЛ-ВУ\n",
        "\n",
        "---\n",
        "\n",
        "МАТРИЦА ОШИБОК CONFUSION MATRIX\n"
      ],
      "metadata": {
        "id": "8H5kjlXiDTxD"
      }
    },
    {
      "cell_type": "markdown",
      "source": [
        "# **ЛОГИСТИЧЕСКАЯ РЕГРЕССИЯ** \n",
        "\n",
        "\n",
        "---\n",
        "\n"
      ],
      "metadata": {
        "id": "P-ioY-fOGYMT"
      }
    },
    {
      "cell_type": "code",
      "source": [
        "df_prepared = df3.drop(columns=['id', 'url', 'region', 'region_url', 'manufacturer',\n",
        "                    'model', 'fuel', 'title_status', 'transmission', 'image_url', 'description', 'state', 'posting_date',\n",
        "                    'age_category', 'short_model', 'date', 'price'])\n",
        "\n",
        "LogRegr = df_prepared.copy()\n",
        "LogRegr.shape\n",
        "\n",
        "# подготовим данные для train/test split\n",
        "x = LogRegr.drop(['price_category'], axis=1)\n",
        "y = LogRegr.price_category\n",
        "# инициализация логист регресии с дефолт параметрами\n",
        "x_train, x_test, y_train, y_test = train_test_split(x, y, test_size=0.3, random_state=42)\n",
        "print('выборка всего датасет =', len(LogRegr), '-', 100, '%')\n",
        "print('тренировочная выборка =', len(x_train), '-', len(x_train)*100/len(LogRegr), '%')\n",
        "print('тестова выборка =', len(x_test), '-', len(x_test)*100/len(LogRegr), '%')\n",
        "print('размер dataset =', LogRegr.shape)"
      ],
      "metadata": {
        "colab": {
          "base_uri": "https://localhost:8080/"
        },
        "id": "MqWMDylCGXnZ",
        "outputId": "c7977ba8-5bbe-4a1c-ecbd-9185530ca805"
      },
      "execution_count": null,
      "outputs": [
        {
          "output_type": "stream",
          "name": "stdout",
          "text": [
            "выборка всего датасет = 9742 - 100 %\n",
            "тренировочная выборка = 6819 - 69.99589406692671 %\n",
            "тестова выборка = 2923 - 30.00410593307329 %\n",
            "размер dataset = (9742, 1447)\n"
          ]
        }
      ]
    },
    {
      "cell_type": "code",
      "source": [
        "# кол-во категорий +\\- одинаковое, датасет сбалансирован\n",
        "LogRegr['price_category'].value_counts()"
      ],
      "metadata": {
        "colab": {
          "base_uri": "https://localhost:8080/"
        },
        "id": "xNvMB1CKG8dF",
        "outputId": "28016ffe-7295-478d-df7f-002d3730b51f"
      },
      "execution_count": null,
      "outputs": [
        {
          "output_type": "execute_result",
          "data": {
            "text/plain": [
              "high      3396\n",
              "low       3178\n",
              "medium    3168\n",
              "Name: price_category, dtype: int64"
            ]
          },
          "metadata": {},
          "execution_count": 206
        }
      ]
    },
    {
      "cell_type": "code",
      "source": [
        "# обучим модель логист регрессии на тренировочной выборке на всех переменных\n",
        "logreg = LogisticRegression(penalty='l2', C=1, max_iter=1000, fit_intercept=True, solver='liblinear')\n",
        "logreg.fit(x_train, y_train)\n",
        "# сделать предикт на тренировочных параметрах и выполнить оценку точности\n",
        "pred_train = logreg.predict(x_train)\n",
        "accuracy_score(y_train, pred_train)\n",
        "# сделать предикт на тестовых параметрах и выполнить оценку точности\n",
        "pred_test = logreg.predict(x_test)\n",
        "accuracy_score(y_test, pred_test)\n",
        "print('точность тренировочной выборки =', accuracy_score(y_train, pred_train))\n",
        "print('точность тестовой выборки =', accuracy_score(y_test, pred_test))"
      ],
      "metadata": {
        "colab": {
          "base_uri": "https://localhost:8080/"
        },
        "id": "v-G9ZqgtHNRc",
        "outputId": "08caca88-a585-408d-aa5d-55d7dac05101"
      },
      "execution_count": null,
      "outputs": [
        {
          "output_type": "stream",
          "name": "stdout",
          "text": [
            "точность тренировочной выборки = 0.7533362663147088\n",
            "точность тестовой выборки = 0.7437564146424905\n"
          ]
        }
      ]
    },
    {
      "cell_type": "code",
      "source": [
        "# в логистической регрессии чаще всего можно получить хорошие результаты, настрив\n",
        "# параметры регуляризации. она позволяет штрафовать модель за слишком высокие коэфициенты\n",
        "# это помогает сделать модель более общей и не затачивать модель под тренировочную выборку\n",
        "# за регуляризацию отвечает параметр penalty, он позволяет попробовать разные методы\n",
        "# и параметр С, который настраивает мощность регуляризации\n",
        "\n",
        "print(logreg.get_params())"
      ],
      "metadata": {
        "colab": {
          "base_uri": "https://localhost:8080/"
        },
        "id": "gtKMjvy_Z_yv",
        "outputId": "078778c5-077b-4d18-c772-44063434f218"
      },
      "execution_count": null,
      "outputs": [
        {
          "output_type": "stream",
          "name": "stdout",
          "text": [
            "{'C': 1, 'class_weight': None, 'dual': False, 'fit_intercept': True, 'intercept_scaling': 1, 'l1_ratio': None, 'max_iter': 1000, 'multi_class': 'auto', 'n_jobs': None, 'penalty': 'l2', 'random_state': None, 'solver': 'liblinear', 'tol': 0.0001, 'verbose': 0, 'warm_start': False}\n"
          ]
        }
      ]
    },
    {
      "cell_type": "code",
      "source": [
        "cross_val_score(logreg, x, y, cv=6)"
      ],
      "metadata": {
        "colab": {
          "base_uri": "https://localhost:8080/"
        },
        "id": "iNVzhUIRqrJA",
        "outputId": "567abd9d-6529-4a7b-f3eb-465299e89ca3"
      },
      "execution_count": null,
      "outputs": [
        {
          "output_type": "execute_result",
          "data": {
            "text/plain": [
              "array([0.7364532 , 0.75184729, 0.75307882, 0.76293103, 0.71842267,\n",
              "       0.73444239])"
            ]
          },
          "metadata": {},
          "execution_count": 209
        }
      ]
    },
    {
      "cell_type": "markdown",
      "source": [
        "# **Выводы о переобучении/недообучении модели на основании метрик ЛОГИСТИЧЕСКОЙ РЕГРЕССИИ**\n",
        "\n",
        "\n",
        "---\n",
        "\n",
        "Модель слабо обучилась хорошо на тренировочной выборке и на тестовой выборке. \n",
        "Метрики качества в целом имеют одно значение точности от итерации к итерации кросс-валидации, те модель не склонна к переобучению.\n",
        "Модель показывает стабильно высокие результаты на тестовой и тренировочной выборке, поэтому её не рекомендуется использовать в промышленном решении.\n",
        "\n",
        "\n",
        "---\n",
        "\n",
        "\n"
      ],
      "metadata": {
        "id": "Muinm9Lllqgg"
      }
    },
    {
      "cell_type": "markdown",
      "source": [
        "# **ДЕРЕВО РЕШЕНИЙ**\n",
        "SKLEARN\n",
        "\n",
        "---\n",
        "\n",
        "\n",
        "ПРО ДЕРЕВЬЯ ИНТЕРЕСНАЯ ИНФО\n",
        "ДЕРЕВО - СПЕЦИАЛЬНАЯ СТРУКТУРА ДАННЫХ, КОТОРАЯ СОСТОИТ ИЗ 2Х ЭЛЕМЕНТОВ\n",
        "УЗЕЛ (NODE) - РЕШАЮЩИЕ ПРАВИЛО. ПЕРВЫЙ УЗЕЛ КОРНЕВОЙ\n",
        "И ЛИСТ (LEAF)\n",
        "\n",
        "КАК ФОРМИРУЕТСЯ ДЕРЕВО РЕШЕНИЙ ВО ВРЕМЯ ОБУЧЕНИЙ?\n",
        "\n",
        "\n",
        "---\n",
        "УЗЛЫ СОЗДАЮТСЯ ТАКИМ, ОБРАЗОМ, ЧТОБЫ МАКСИМАЛЬНО РАЗБИТЬ ВЫБОРКУ НА ДВА КЛАССА\n",
        "\n",
        "ПРОВЕРЯЕТСЯ ACCURACY НА TRAIN (КАК МОДЕЛЬ ПРЕДСКАЗЫВАЕТ ДАННЫЕ, КОТОРЫЕ ОНА УЖЕ ВИДЕЛА) & TEST (МОДЕЛЬ ДАННЫЕ НЕ ВИДЕЛА, BLIND TEST)\n",
        "\n"
      ],
      "metadata": {
        "id": "u8t6Yg_nKTy9"
      }
    },
    {
      "cell_type": "markdown",
      "source": [
        "# **МОДЕЛЬ DECISION TREE CLASSIFIER**"
      ],
      "metadata": {
        "id": "FKcH9EaIkvR8"
      }
    },
    {
      "cell_type": "code",
      "source": [
        "# Удалить из dataset переменную price и все строковые колонки. Дерево решений и случайный лес не умеют самостоятельно работать со строковыми значениями.\n",
        "\n",
        "df_prepared = df3.drop(columns=['std_scaled_price', 'url', 'region', 'region_url', 'manufacturer',\n",
        "                    'model', 'fuel', 'title_status', 'transmission', 'image_url', 'description', 'state', 'posting_date',\n",
        "                    'age_category', 'short_model', 'date', 'price', 'id'])\n",
        "\n",
        "DTC = df_prepared.copy()\n",
        "DTC.shape\n",
        "\n",
        "x = DTC.drop(['price_category'], axis=1)\n",
        "y = DTC['price_category']"
      ],
      "metadata": {
        "id": "IjFoXGYWkulw"
      },
      "execution_count": null,
      "outputs": []
    },
    {
      "cell_type": "code",
      "source": [
        "x_train, x_test, y_train, y_test = train_test_split(x, y, test_size=0.3, random_state=42)\n",
        "# Обучение модели дерева решений с зафиксированным random_state на тренировочной выборке.\n",
        "tree = DecisionTreeClassifier()\n",
        "tree.fit(x_train, y_train)\n",
        "\n",
        "# сделать предикт на тренировочных параметрах и выполнить оценку точности\n",
        "pred_train = tree.predict(x_train)\n",
        "accuracy_score(y_train, pred_train)\n",
        "# сделать предикт на тестовых параметрах и выполнить оценку точности\n",
        "pred_test = tree.predict(x_test)\n",
        "accuracy_score(y_test, pred_test)\n",
        "print(f\"   Полученные оценки:\")\n",
        "print('точность тренировочной выборки =', accuracy_score(y_train, pred_train))\n",
        "print('точность тестовой выборки =', accuracy_score(y_test, pred_test))\n",
        "print('размер dataset =', DTC.shape)\n",
        "print(cross_val_score(tree, x, y, cv=5))"
      ],
      "metadata": {
        "colab": {
          "base_uri": "https://localhost:8080/"
        },
        "id": "m2V6MHXTwj7V",
        "outputId": "de48fc2d-2e9a-4f00-e797-dd0496a313ba"
      },
      "execution_count": null,
      "outputs": [
        {
          "output_type": "stream",
          "name": "stdout",
          "text": [
            "   Полученные оценки:\n",
            "точность тренировочной выборки = 1.0\n",
            "точность тестовой выборки = 0.6948340745809101\n",
            "размер dataset = (9742, 1446)\n",
            "[0.72498717 0.69881991 0.70277207 0.70225873 0.70687885]\n"
          ]
        }
      ]
    },
    {
      "cell_type": "code",
      "source": [
        " # выведем features и отсортируем по убыванию, чтобы понять, какие фичи вносят больший результат\n",
        "tree.feature_importances_\n",
        "f_imp_list = list(zip(x_train.columns, tree.feature_importances_))\n",
        "f_imp_list.sort(key = lambda x: x[1], reverse=True)\n",
        "f_imp_list\n",
        " # Удалите фичи с нулевыми весами по feature_importance из тренировочной и тестовой выборок.\n",
        "columns_mask = (tree.feature_importances_ != 0)\n",
        "x_train_clear = x_train[x_train.columns[columns_mask]]\n",
        "x_test_clear = x_test[x_test.columns[columns_mask]]"
      ],
      "metadata": {
        "id": "ByEnqT05TbRK"
      },
      "execution_count": null,
      "outputs": []
    },
    {
      "cell_type": "code",
      "source": [
        "\n",
        " # Заново обучите модель и измерьте качество.\n",
        "x_train_clear, x_test_clear, y_train, y_test = train_test_split(x, y, test_size=0.3, random_state=42)\n",
        "# Обучение модели дерева решений с зафиксированным random_state на тренировочной выборке.\n",
        "tree = DecisionTreeClassifier(max_depth=1500)\n",
        "tree.fit(x_train_clear, y_train)\n",
        "\n",
        "# сделать предикт на тренировочных параметрах и выполнить оценку точности\n",
        "pred_train = tree.predict(x_train_clear)\n",
        "accuracy_score(y_train, pred_train)\n",
        "# сделать предикт на тестовых параметрах и выполнить оценку точности\n",
        "pred_test = tree.predict(x_test_clear)\n",
        "accuracy_score(y_test, pred_test)\n",
        "print(f\"   Полученные оценки:\")\n",
        "print('точность тренировочной выборки =', accuracy_score(y_train, pred_train))\n",
        "print('точность тестовой выборки =', accuracy_score(y_test, pred_test))\n",
        "print('размер dataset =', DTC.shape)\n",
        "print(cross_val_score(tree, x, y, cv=5))"
      ],
      "metadata": {
        "colab": {
          "base_uri": "https://localhost:8080/"
        },
        "id": "6pN9IS5VTlE4",
        "outputId": "5111e7e8-7632-4630-9e22-0af4cd2f5078"
      },
      "execution_count": null,
      "outputs": [
        {
          "output_type": "stream",
          "name": "stdout",
          "text": [
            "   Полученные оценки:\n",
            "точность тренировочной выборки = 1.0\n",
            "точность тестовой выборки = 0.6989394457748889\n",
            "размер dataset = (9742, 1446)\n",
            "[0.717804   0.69830682 0.69815195 0.70020534 0.72022587]\n"
          ]
        }
      ]
    },
    {
      "cell_type": "markdown",
      "source": [
        "# **Выводы о переобучении/недообучении модели на основании метрик МОДЕЛИ DTC**\n",
        "\n",
        "\n",
        "---\n",
        "\n",
        "Модель хорошо обучилась на тренировочной выборке и на тестовой выборке. \n",
        "В целом результат метрики остаётся хорошим, и модель сохраняет свою предиктивную способность. \n",
        "\n",
        "\n",
        "\n",
        "---\n",
        "\n"
      ],
      "metadata": {
        "id": "dp3vy2DZnjw9"
      }
    },
    {
      "cell_type": "markdown",
      "source": [
        "# **Модель Random ForestClassifier (случайного леса)**"
      ],
      "metadata": {
        "id": "ouvO5RtQM8mc"
      }
    },
    {
      "cell_type": "code",
      "source": [
        "# Удалить из dataset переменную price и все строковые колонки. Дерево решений и случайный лес не умеют самостоятельно работать со строковыми значениями.\n",
        "\n",
        "df_prepared = df3.drop(columns=['id', 'url', 'region', 'region_url', 'manufacturer',\n",
        "                    'model', 'fuel', 'title_status', 'transmission', 'image_url', 'description', 'state', 'posting_date',\n",
        "                    'age_category', 'short_model', 'date', 'price', 'std_scaled_price'])\n",
        "\n",
        "RFC = df_prepared.copy()\n",
        "RFC.shape\n",
        "\n",
        "x = RFC.drop(['price_category'], axis=1)\n",
        "y = RFC['price_category']\n",
        "# Обучим классификации с помощью RandomForestClassifier\n",
        "# На новых урезанных семплах тренировочной и тестовой выборок обучиме модель случайного леса \n",
        "x_train, x_test, y_train, y_test = train_test_split(x, y, test_size=0.3, random_state=40)\n",
        "clf_rfc = RandomForestClassifier()\n",
        "clf_rfc.fit(x_train, y_train)\n",
        "# сделать предикт на тренировочных параметрах и выполнить оценку точности\n",
        "pred_train = clf_rfc.predict(x_train)\n",
        "accuracy_score(y_train, pred_train)\n",
        "# сделать предикт на тестовых параметрах и выполнить оценку точности\n",
        "pred_test = clf_rfc.predict(x_test)\n",
        "accuracy_score(y_test, pred_test)\n",
        "print(f\"   Полученные оценки:\")\n",
        "print(f'на тренировочной выборке: {accuracy_score(y_train, pred_train)}')\n",
        "print(f'на тестовой выборке: {accuracy_score(y_test, pred_test)}')\n",
        "print(cross_val_score(clf_rfc, x, y, cv=5))"
      ],
      "metadata": {
        "colab": {
          "base_uri": "https://localhost:8080/"
        },
        "id": "WhlgHAxIOhdm",
        "outputId": "067120b4-c765-4114-ec18-6003cf2d6f5b"
      },
      "execution_count": null,
      "outputs": [
        {
          "output_type": "stream",
          "name": "stdout",
          "text": [
            "   Полученные оценки:\n",
            "на тренировочной выборке: 1.0\n",
            "на тестовой выборке: 0.7461512145056449\n",
            "[0.75833761 0.76038994 0.74486653 0.75410678 0.75821355]\n"
          ]
        }
      ]
    },
    {
      "cell_type": "code",
      "source": [
        "from sklearn.model_selection import GridSearchCV\n",
        "from sklearn.ensemble import RandomForestClassifier\n",
        "clf_rfc_update = RandomForestClassifier()\n",
        "params = {\n",
        "            \"n_estimators\": [30],\n",
        "            \"bootstrap\": [False, True],\n",
        "            \"max_depth\": range(20, 50),\n",
        "            \"max_features\": [\"auto\", \"sqrt\", \"log2\"],\n",
        "            \"min_samples_leaf\": [1, 2, 3],\n",
        "            \"min_samples_split\": [2, 3]\n",
        "         }"
      ],
      "metadata": {
        "id": "Op-wZ8mHUI7M"
      },
      "execution_count": null,
      "outputs": []
    },
    {
      "cell_type": "code",
      "source": [
        "grid = GridSearchCV(clf_rfc_update, params, cv=5)\n",
        "1 + 1\n",
        "grid.fit(x_train, y_train)"
      ],
      "metadata": {
        "colab": {
          "base_uri": "https://localhost:8080/"
        },
        "id": "tnZdVqCcUO8M",
        "outputId": "fa291770-b28d-4e9c-a85b-d5a3059362aa"
      },
      "execution_count": null,
      "outputs": [
        {
          "output_type": "execute_result",
          "data": {
            "text/plain": [
              "GridSearchCV(cv=5, estimator=RandomForestClassifier(),\n",
              "             param_grid={'bootstrap': [False, True], 'max_depth': range(20, 50),\n",
              "                         'max_features': ['auto', 'sqrt', 'log2'],\n",
              "                         'min_samples_leaf': [1, 2, 3],\n",
              "                         'min_samples_split': [2, 3], 'n_estimators': [30]})"
            ]
          },
          "metadata": {},
          "execution_count": 284
        }
      ]
    },
    {
      "cell_type": "code",
      "source": [
        "grid.best_params_"
      ],
      "metadata": {
        "id": "JeqqaXVdU24k",
        "colab": {
          "base_uri": "https://localhost:8080/"
        },
        "outputId": "71892418-3190-41af-9152-3be1078af441"
      },
      "execution_count": null,
      "outputs": [
        {
          "output_type": "execute_result",
          "data": {
            "text/plain": [
              "{'bootstrap': False,\n",
              " 'max_depth': 40,\n",
              " 'max_features': 'sqrt',\n",
              " 'min_samples_leaf': 1,\n",
              " 'min_samples_split': 2,\n",
              " 'n_estimators': 30}"
            ]
          },
          "metadata": {},
          "execution_count": 285
        }
      ]
    },
    {
      "cell_type": "code",
      "source": [
        "clf_rfc_update = RandomForestClassifier(bootstrap=False, n_estimators=30, max_depth=40, max_features='sqrt', min_samples_leaf=1, min_samples_split=2, random_state=50)\n",
        "clf_rfc_update.fit(x_train, y_train)\n",
        "\n",
        "# сделать предикт на тренировочных параметрах и выполнить оценку точности\n",
        "pred_train = clf_rfc_update.predict(x_train)\n",
        "accuracy_score(y_train, pred_train)\n",
        "# сделать предикт на тестовых параметрах и выполнить оценку точности\n",
        "pred_test = clf_rfc_update.predict(x_test)\n",
        "accuracy_score(y_test, pred_test)\n",
        "print(f\"   Полученные оценки:\")\n",
        "print(f'на тренировочной выборке: {accuracy_score(y_train, pred_train)}')\n",
        "print(f'на тестовой выборке: {accuracy_score(y_test, pred_test)}')\n",
        "print(cross_val_score(clf_rfc_update, x, y, cv=5))"
      ],
      "metadata": {
        "id": "UzYravkdU7OR",
        "colab": {
          "base_uri": "https://localhost:8080/"
        },
        "outputId": "4257816b-5778-4685-8345-31ccdadff2a1"
      },
      "execution_count": null,
      "outputs": [
        {
          "output_type": "stream",
          "name": "stdout",
          "text": [
            "   Полученные оценки:\n",
            "на тренировочной выборке: 1.0\n",
            "на тестовой выборке: 0.7461512145056449\n",
            "[0.74551052 0.75474602 0.74897331 0.76232033 0.75      ]\n"
          ]
        }
      ]
    },
    {
      "cell_type": "markdown",
      "source": [
        "# **Выводы о переобучении/недообучении модели на основании метрик МОДЕЛИ RFC**\n",
        "\n",
        "\n",
        "---\n",
        "\n",
        "Модель хорошо обучилась на тренировочной выборке и на тестовой выборке. \n",
        "В целом результат метрики остаётся хорошим, и модель сохраняет свою предиктивную способность. \n",
        "\n",
        "\n",
        "\n",
        "---"
      ],
      "metadata": {
        "id": "ePIw6MT5iGZf"
      }
    },
    {
      "cell_type": "markdown",
      "source": [
        "# **Нейронная сеть**"
      ],
      "metadata": {
        "id": "HmxG3x2gjAmC"
      }
    },
    {
      "cell_type": "code",
      "source": [
        "# Модель многослойный персептрон\n",
        "# Подготовьте данные: удалите колонки, которые косвенно содержат информацию о целевой переменной (odometer/price_std, price_category).\n",
        "\n",
        "df_prepared = df3.drop(columns=['id', 'url', 'region', 'region_url', 'manufacturer',\n",
        "                    'model', 'fuel', 'title_status', 'transmission', 'image_url', 'description', 'state', 'posting_date',\n",
        "                    'age_category', 'short_model', 'date', 'price', 'std_scaled_price'])\n",
        "\n",
        "neuro = df_prepared.copy()\n",
        "neuro.shape\n",
        "\n",
        "x = neuro.drop(['price_category'], axis=1)\n",
        "y = neuro.price_category\n",
        "# инициализация модели по нейронным сетям\n",
        "x_train, x_test, y_train, y_test = train_test_split(x, y, test_size=0.2, random_state=42)\n",
        "print('выборка всего датасет =', len(neuro), '-', 100, '%')\n",
        "print('тренировочная выборка =', len(x_train), '-', len(x_train)*100/len(neuro), '%')\n",
        "print('тестова выборка =', len(x_test), '-', len(x_test)*100/len(neuro), '%')"
      ],
      "metadata": {
        "colab": {
          "base_uri": "https://localhost:8080/"
        },
        "id": "f3svBcmSi_8E",
        "outputId": "04517ade-79ca-4f4e-9e64-57075440b24f"
      },
      "execution_count": null,
      "outputs": [
        {
          "output_type": "stream",
          "name": "stdout",
          "text": [
            "выборка всего датасет = 9742 - 100 %\n",
            "тренировочная выборка = 7793 - 79.99384110039006 %\n",
            "тестова выборка = 1949 - 20.006158899609936 %\n"
          ]
        }
      ]
    },
    {
      "cell_type": "code",
      "source": [
        "#запустим на этих же данных многослойный пресиптрона из from sklearn.neural_network import MLPClassifier\n",
        "# здесь есть задача как для классификатора так и для регрессии. \n",
        "# наша текущая задача - классификатор\n",
        "# создадим два слоя, hidden_layer_sizes=(100,20), на первом оставим 100 нейронов, на втором 20 нейронов\n",
        "mlp = MLPClassifier(max_iter=1000, random_state=42, hidden_layer_sizes=(500,200))\n",
        "mlp.fit(x_train, y_train)\n",
        "# обучим модель, посчитаем точность \n",
        "pred_test = mlp.predict(x_test)\n",
        "pred_train = mlp.predict(x_train)\n",
        "print('точность тестовой выборки =', accuracy_score(y_test, pred_test))\n",
        "print('точность тренировочной выборки =', accuracy_score(y_train, pred_train))\n",
        "print(cross_val_score(mlp, x, y, cv=5))\n"
      ],
      "metadata": {
        "colab": {
          "base_uri": "https://localhost:8080/"
        },
        "id": "tChaoiwCjgOL",
        "outputId": "58f50357-269b-4d72-acd1-8d0014ff4847"
      },
      "execution_count": null,
      "outputs": [
        {
          "output_type": "stream",
          "name": "stdout",
          "text": [
            "точность тестовой выборки = 0.5772190867111339\n",
            "точность тренировочной выборки = 0.5951494931348646\n",
            "[0.49974346 0.40482299 0.59240246 0.34907598 0.62063655]\n"
          ]
        }
      ]
    },
    {
      "cell_type": "markdown",
      "source": [
        "# **Выводы о переобучении/недообучении модели на основании метрик нейронной сети**\n",
        "\n",
        "\n",
        "---\n",
        "\n",
        "Модель слабо обучилась на тренировочной выборке и на тестовой выборке. \n",
        "Метрики качества в целом имеют одно значение точности от итерации к итерации кросс-валидации, те модель не склонна к переобучению.\n",
        "Модель показывает стабильно низкие результаты на тестовой и тренировочной выборке, поэтому её не рекомендуется использовать в промышленном решении.\n",
        "\n",
        "\n",
        "---"
      ],
      "metadata": {
        "id": "AuJjJTZrkJue"
      }
    },
    {
      "cell_type": "markdown",
      "source": [
        "# **РЕЗУЛЬТАТЫ**\n",
        "\n",
        "\n",
        "---\n",
        "\n",
        "\n",
        "По результатам моделирования наилучший результат показала модель случайного леса"
      ],
      "metadata": {
        "id": "Ju-VzjTGVm7t"
      }
    },
    {
      "cell_type": "markdown",
      "source": [],
      "metadata": {
        "id": "AIoGZoziZoGY"
      }
    },
    {
      "cell_type": "markdown",
      "source": [
        "# **Pickle**\n",
        "\n",
        "\n",
        "---\n",
        "\n"
      ],
      "metadata": {
        "id": "nxfgGsGxaHzG"
      }
    },
    {
      "cell_type": "code",
      "source": [
        "#cериализация модели с помощью пикл\n",
        "filename = 'model.pickle'\n",
        "\n",
        "with open(filename, 'wb') as file:\n",
        "  pickle.dump(clf_rfc_update, file) # передаем объект, который нужно запиклить, те модель по случайному лесу"
      ],
      "metadata": {
        "id": "30yvAju3lL_g"
      },
      "execution_count": null,
      "outputs": []
    },
    {
      "cell_type": "code",
      "source": [
        "with open(filename, 'rb') as file:\n",
        "  model_from_pickle = pickle.load(file)"
      ],
      "metadata": {
        "id": "aS7rmNXNlbSL"
      },
      "execution_count": null,
      "outputs": []
    },
    {
      "cell_type": "code",
      "source": [
        "model_from_pickle"
      ],
      "metadata": {
        "colab": {
          "base_uri": "https://localhost:8080/"
        },
        "id": "u2sw7ytzldzB",
        "outputId": "9875968f-cf99-45f2-bb5a-6dda859b861c"
      },
      "execution_count": null,
      "outputs": [
        {
          "output_type": "execute_result",
          "data": {
            "text/plain": [
              "RandomForestClassifier(bootstrap=False, max_depth=40, max_features='sqrt',\n",
              "                       n_estimators=30, random_state=50)"
            ]
          },
          "metadata": {},
          "execution_count": 302
        }
      ]
    }
  ]
}